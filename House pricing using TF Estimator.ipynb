{
 "cells": [
  {
   "cell_type": "markdown",
   "metadata": {},
   "source": [
    "<h2>Introduction</h2>\n",
    "<br>\n",
    "Welcome to this new notebook, where I'm playing around with the Tensorflow Estimator API.\n",
    "<br>\n",
    "<br>\n",
    "The goal is to predict the Median House Value, given many features.\n",
    "We will be testing two different models\n",
    "<br>\n",
    "<br>\n",
    "Regression problem, let's dive into it !"
   ]
  },
  {
   "cell_type": "markdown",
   "metadata": {},
   "source": [
    "<b>Importing libraries</b>"
   ]
  },
  {
   "cell_type": "code",
   "execution_count": 16,
   "metadata": {
    "collapsed": true
   },
   "outputs": [],
   "source": [
    "import pandas as pd\n",
    "import tensorflow as tf\n",
    "\n",
    "from sklearn.preprocessing import MinMaxScaler\n",
    "from sklearn.model_selection import train_test_split\n",
    "from sklearn.metrics import mean_squared_error\n",
    "\n",
    "from math import sqrt\n",
    "\n",
    "import matplotlib.pyplot as plt\n",
    "\n",
    "%matplotlib inline"
   ]
  },
  {
   "cell_type": "markdown",
   "metadata": {},
   "source": [
    "<b>Reading the dataset</b>"
   ]
  },
  {
   "cell_type": "code",
   "execution_count": 3,
   "metadata": {
    "collapsed": true
   },
   "outputs": [],
   "source": [
    "df = pd.read_csv('cal_housing_clean.csv')"
   ]
  },
  {
   "cell_type": "code",
   "execution_count": 4,
   "metadata": {},
   "outputs": [
    {
     "data": {
      "text/html": [
       "<div>\n",
       "<style>\n",
       "    .dataframe thead tr:only-child th {\n",
       "        text-align: right;\n",
       "    }\n",
       "\n",
       "    .dataframe thead th {\n",
       "        text-align: left;\n",
       "    }\n",
       "\n",
       "    .dataframe tbody tr th {\n",
       "        vertical-align: top;\n",
       "    }\n",
       "</style>\n",
       "<table border=\"1\" class=\"dataframe\">\n",
       "  <thead>\n",
       "    <tr style=\"text-align: right;\">\n",
       "      <th></th>\n",
       "      <th>housingMedianAge</th>\n",
       "      <th>totalRooms</th>\n",
       "      <th>totalBedrooms</th>\n",
       "      <th>population</th>\n",
       "      <th>households</th>\n",
       "      <th>medianIncome</th>\n",
       "      <th>medianHouseValue</th>\n",
       "    </tr>\n",
       "  </thead>\n",
       "  <tbody>\n",
       "    <tr>\n",
       "      <th>0</th>\n",
       "      <td>41.0</td>\n",
       "      <td>880.0</td>\n",
       "      <td>129.0</td>\n",
       "      <td>322.0</td>\n",
       "      <td>126.0</td>\n",
       "      <td>8.3252</td>\n",
       "      <td>452600.0</td>\n",
       "    </tr>\n",
       "    <tr>\n",
       "      <th>1</th>\n",
       "      <td>21.0</td>\n",
       "      <td>7099.0</td>\n",
       "      <td>1106.0</td>\n",
       "      <td>2401.0</td>\n",
       "      <td>1138.0</td>\n",
       "      <td>8.3014</td>\n",
       "      <td>358500.0</td>\n",
       "    </tr>\n",
       "    <tr>\n",
       "      <th>2</th>\n",
       "      <td>52.0</td>\n",
       "      <td>1467.0</td>\n",
       "      <td>190.0</td>\n",
       "      <td>496.0</td>\n",
       "      <td>177.0</td>\n",
       "      <td>7.2574</td>\n",
       "      <td>352100.0</td>\n",
       "    </tr>\n",
       "    <tr>\n",
       "      <th>3</th>\n",
       "      <td>52.0</td>\n",
       "      <td>1274.0</td>\n",
       "      <td>235.0</td>\n",
       "      <td>558.0</td>\n",
       "      <td>219.0</td>\n",
       "      <td>5.6431</td>\n",
       "      <td>341300.0</td>\n",
       "    </tr>\n",
       "    <tr>\n",
       "      <th>4</th>\n",
       "      <td>52.0</td>\n",
       "      <td>1627.0</td>\n",
       "      <td>280.0</td>\n",
       "      <td>565.0</td>\n",
       "      <td>259.0</td>\n",
       "      <td>3.8462</td>\n",
       "      <td>342200.0</td>\n",
       "    </tr>\n",
       "  </tbody>\n",
       "</table>\n",
       "</div>"
      ],
      "text/plain": [
       "   housingMedianAge  totalRooms  totalBedrooms  population  households  \\\n",
       "0              41.0       880.0          129.0       322.0       126.0   \n",
       "1              21.0      7099.0         1106.0      2401.0      1138.0   \n",
       "2              52.0      1467.0          190.0       496.0       177.0   \n",
       "3              52.0      1274.0          235.0       558.0       219.0   \n",
       "4              52.0      1627.0          280.0       565.0       259.0   \n",
       "\n",
       "   medianIncome  medianHouseValue  \n",
       "0        8.3252          452600.0  \n",
       "1        8.3014          358500.0  \n",
       "2        7.2574          352100.0  \n",
       "3        5.6431          341300.0  \n",
       "4        3.8462          342200.0  "
      ]
     },
     "execution_count": 4,
     "metadata": {},
     "output_type": "execute_result"
    }
   ],
   "source": [
    "df.head()"
   ]
  },
  {
   "cell_type": "markdown",
   "metadata": {},
   "source": [
    "<b>Let's check the histograms</b>"
   ]
  },
  {
   "cell_type": "code",
   "execution_count": 13,
   "metadata": {},
   "outputs": [
    {
     "data": {
      "text/plain": [
       "array([[<matplotlib.axes._subplots.AxesSubplot object at 0x00000259F0EA39E8>,\n",
       "        <matplotlib.axes._subplots.AxesSubplot object at 0x00000259F1190748>,\n",
       "        <matplotlib.axes._subplots.AxesSubplot object at 0x00000259F11B2A58>],\n",
       "       [<matplotlib.axes._subplots.AxesSubplot object at 0x00000259F121C0F0>,\n",
       "        <matplotlib.axes._subplots.AxesSubplot object at 0x00000259F1263CF8>,\n",
       "        <matplotlib.axes._subplots.AxesSubplot object at 0x00000259F12942E8>],\n",
       "       [<matplotlib.axes._subplots.AxesSubplot object at 0x00000259F12E2E10>,\n",
       "        <matplotlib.axes._subplots.AxesSubplot object at 0x00000259F130CEF0>,\n",
       "        <matplotlib.axes._subplots.AxesSubplot object at 0x00000259F1383828>]], dtype=object)"
      ]
     },
     "execution_count": 13,
     "metadata": {},
     "output_type": "execute_result"
    },
    {
     "data": {
      "image/png": "[encoded data removed]",
      "text/plain": [
       "<matplotlib.figure.Figure at 0x259ef0a5438>"
      ]
     },
     "metadata": {},
     "output_type": "display_data"
    }
   ],
   "source": [
    "df.hist(bins=20, figsize=(10,10))"
   ]
  },
  {
   "cell_type": "markdown",
   "metadata": {},
   "source": [
    "<b>We can see that the features' ranges are quite differently scaled, so we definitely need to normalize our data<b>"
   ]
  },
  {
   "cell_type": "code",
   "execution_count": 15,
   "metadata": {
    "collapsed": true
   },
   "outputs": [],
   "source": [
    "minmax = MinMaxScaler()"
   ]
  },
  {
   "cell_type": "code",
   "execution_count": 17,
   "metadata": {},
   "outputs": [
    {
     "data": {
      "text/plain": [
       "['housingMedianAge',\n",
       " 'totalRooms',\n",
       " 'totalBedrooms',\n",
       " 'population',\n",
       " 'households',\n",
       " 'medianIncome',\n",
       " 'medianHouseValue']"
      ]
     },
     "execution_count": 17,
     "metadata": {},
     "output_type": "execute_result"
    }
   ],
   "source": [
    "df.columns.tolist()"
   ]
  },
  {
   "cell_type": "code",
   "execution_count": 18,
   "metadata": {
    "collapsed": true
   },
   "outputs": [],
   "source": [
    "x = df.drop('medianHouseValue', axis=1)\n",
    "y = df['medianHouseValue']"
   ]
  },
  {
   "cell_type": "markdown",
   "metadata": {},
   "source": [
    "<b>Splitting our train and test datasets</b>"
   ]
  },
  {
   "cell_type": "code",
   "execution_count": 76,
   "metadata": {
    "collapsed": true
   },
   "outputs": [],
   "source": [
    "x_train, x_test, y_train, y_test = train_test_split(x,y,test_size=0.3, random_state=101)"
   ]
  },
  {
   "cell_type": "code",
   "execution_count": 77,
   "metadata": {
    "collapsed": true
   },
   "outputs": [],
   "source": [
    "x_cols = x_train.columns.tolist()\n",
    "x_train_indexes = x_train.index\n",
    "x_test_indexes = x_test.index"
   ]
  },
  {
   "cell_type": "code",
   "execution_count": 78,
   "metadata": {},
   "outputs": [],
   "source": [
    "x_train = minmax.fit_transform(x_train)"
   ]
  },
  {
   "cell_type": "code",
   "execution_count": 79,
   "metadata": {},
   "outputs": [],
   "source": [
    "x_train = pd.DataFrame(data=x_train, columns=x_cols, index=x_train_indexes)"
   ]
  },
  {
   "cell_type": "code",
   "execution_count": 80,
   "metadata": {
    "scrolled": true
   },
   "outputs": [
    {
     "data": {
      "text/html": [
       "<div>\n",
       "<style>\n",
       "    .dataframe thead tr:only-child th {\n",
       "        text-align: right;\n",
       "    }\n",
       "\n",
       "    .dataframe thead th {\n",
       "        text-align: left;\n",
       "    }\n",
       "\n",
       "    .dataframe tbody tr th {\n",
       "        vertical-align: top;\n",
       "    }\n",
       "</style>\n",
       "<table border=\"1\" class=\"dataframe\">\n",
       "  <thead>\n",
       "    <tr style=\"text-align: right;\">\n",
       "      <th></th>\n",
       "      <th>housingMedianAge</th>\n",
       "      <th>totalRooms</th>\n",
       "      <th>totalBedrooms</th>\n",
       "      <th>population</th>\n",
       "      <th>households</th>\n",
       "      <th>medianIncome</th>\n",
       "    </tr>\n",
       "  </thead>\n",
       "  <tbody>\n",
       "    <tr>\n",
       "      <th>6761</th>\n",
       "      <td>0.352941</td>\n",
       "      <td>0.069688</td>\n",
       "      <td>0.117163</td>\n",
       "      <td>0.048769</td>\n",
       "      <td>0.115442</td>\n",
       "      <td>0.142508</td>\n",
       "    </tr>\n",
       "    <tr>\n",
       "      <th>3010</th>\n",
       "      <td>0.607843</td>\n",
       "      <td>0.011242</td>\n",
       "      <td>0.015673</td>\n",
       "      <td>0.008367</td>\n",
       "      <td>0.014142</td>\n",
       "      <td>0.045027</td>\n",
       "    </tr>\n",
       "    <tr>\n",
       "      <th>7812</th>\n",
       "      <td>0.666667</td>\n",
       "      <td>0.025230</td>\n",
       "      <td>0.031347</td>\n",
       "      <td>0.020971</td>\n",
       "      <td>0.030258</td>\n",
       "      <td>0.212866</td>\n",
       "    </tr>\n",
       "    <tr>\n",
       "      <th>8480</th>\n",
       "      <td>0.666667</td>\n",
       "      <td>0.032530</td>\n",
       "      <td>0.033830</td>\n",
       "      <td>0.024752</td>\n",
       "      <td>0.030094</td>\n",
       "      <td>0.298651</td>\n",
       "    </tr>\n",
       "    <tr>\n",
       "      <th>1051</th>\n",
       "      <td>0.294118</td>\n",
       "      <td>0.031919</td>\n",
       "      <td>0.035692</td>\n",
       "      <td>0.019466</td>\n",
       "      <td>0.034863</td>\n",
       "      <td>0.272631</td>\n",
       "    </tr>\n",
       "  </tbody>\n",
       "</table>\n",
       "</div>"
      ],
      "text/plain": [
       "      housingMedianAge  totalRooms  totalBedrooms  population  households  \\\n",
       "6761          0.352941    0.069688       0.117163    0.048769    0.115442   \n",
       "3010          0.607843    0.011242       0.015673    0.008367    0.014142   \n",
       "7812          0.666667    0.025230       0.031347    0.020971    0.030258   \n",
       "8480          0.666667    0.032530       0.033830    0.024752    0.030094   \n",
       "1051          0.294118    0.031919       0.035692    0.019466    0.034863   \n",
       "\n",
       "      medianIncome  \n",
       "6761      0.142508  \n",
       "3010      0.045027  \n",
       "7812      0.212866  \n",
       "8480      0.298651  \n",
       "1051      0.272631  "
      ]
     },
     "execution_count": 80,
     "metadata": {},
     "output_type": "execute_result"
    }
   ],
   "source": [
    "x_train.head()"
   ]
  },
  {
   "cell_type": "markdown",
   "metadata": {},
   "source": [
    "<b>Now our train dataset is normalized, let's do the same for the test dataset</b>"
   ]
  },
  {
   "cell_type": "code",
   "execution_count": 81,
   "metadata": {
    "collapsed": true
   },
   "outputs": [],
   "source": [
    "x_test = minmax.fit_transform(x_test)\n",
    "x_test = pd.DataFrame(data=x_test, columns=x_cols, index=x_test_indexes)"
   ]
  },
  {
   "cell_type": "markdown",
   "metadata": {},
   "source": [
    "<b>Creating the feature columns for our TF models</b>"
   ]
  },
  {
   "cell_type": "code",
   "execution_count": 82,
   "metadata": {
    "collapsed": true
   },
   "outputs": [],
   "source": [
    "housingMedianAge = tf.feature_column.numeric_column('housingMedianAge')\n",
    "totalRooms = tf.feature_column.numeric_column('totalRooms')\n",
    "totalBedrooms = tf.feature_column.numeric_column('totalBedrooms')\n",
    "population = tf.feature_column.numeric_column('population')\n",
    "households = tf.feature_column.numeric_column('households')\n",
    "medianIncome = tf.feature_column.numeric_column('medianIncome')"
   ]
  },
  {
   "cell_type": "code",
   "execution_count": 83,
   "metadata": {
    "collapsed": true
   },
   "outputs": [],
   "source": [
    "feat_cols = [housingMedianAge, totalRooms, totalBedrooms,population,households,medianIncome]"
   ]
  },
  {
   "cell_type": "markdown",
   "metadata": {},
   "source": [
    "<b>Creating the train and predict input functions</b>"
   ]
  },
  {
   "cell_type": "code",
   "execution_count": 96,
   "metadata": {},
   "outputs": [],
   "source": [
    "input_func = tf.estimator.inputs.pandas_input_fn(x_train,y_train,shuffle=True,\\\n",
    "                                                 num_epochs=10000,\\\n",
    "                                                batch_size=10)"
   ]
  },
  {
   "cell_type": "code",
   "execution_count": 97,
   "metadata": {
    "collapsed": true
   },
   "outputs": [],
   "source": [
    "predict_input_func = tf.estimator.inputs.pandas_input_fn(x_test,shuffle=False,\\\n",
    "                                                 num_epochs=1)"
   ]
  },
  {
   "cell_type": "markdown",
   "metadata": {},
   "source": [
    "<b>For this case, we'll try two different options</b>\n",
    "- A Dense Neural Network Regressor\n",
    "- A Linear Regressor\n",
    "<br>\n",
    "\n",
    "<b>Let's first create and evaluate the DNN model</b>"
   ]
  },
  {
   "cell_type": "code",
   "execution_count": 98,
   "metadata": {},
   "outputs": [
    {
     "name": "stdout",
     "output_type": "stream",
     "text": [
      "INFO:tensorflow:Using default config.\n",
      "WARNING:tensorflow:Using temporary folder as model directory: C:\\Users\\Yassine\\AppData\\Local\\Temp\\tmpnt2t416s\n",
      "INFO:tensorflow:Using config: {'_session_config': None, '_keep_checkpoint_max': 5, '_save_checkpoints_steps': None, '_save_checkpoints_secs': 600, '_model_dir': 'C:\\\\Users\\\\Yassine\\\\AppData\\\\Local\\\\Temp\\\\tmpnt2t416s', '_keep_checkpoint_every_n_hours': 10000, '_tf_random_seed': 1, '_save_summary_steps': 100, '_log_step_count_steps': 100}\n"
     ]
    }
   ],
   "source": [
    "dnn_model = tf.estimator.DNNRegressor([6,6,6,6,6],feature_columns=feat_cols)"
   ]
  },
  {
   "cell_type": "markdown",
   "metadata": {},
   "source": [
    "<b>Training the model</b>"
   ]
  },
  {
   "cell_type": "code",
   "execution_count": 99,
   "metadata": {},
   "outputs": [
    {
     "name": "stdout",
     "output_type": "stream",
     "text": [
      "INFO:tensorflow:Create CheckpointSaverHook.\n",
      "INFO:tensorflow:Saving checkpoints for 1 into C:\\Users\\Yassine\\AppData\\Local\\Temp\\tmpnt2t416s\\model.ckpt.\n",
      "INFO:tensorflow:loss = 5.12445e+11, step = 1\n",
      "INFO:tensorflow:global_step/sec: 354.922\n",
      "INFO:tensorflow:loss = 2.18842e+11, step = 101 (0.285 sec)\n",
      "INFO:tensorflow:global_step/sec: 214.737\n",
      "INFO:tensorflow:loss = 8.58017e+10, step = 201 (0.473 sec)\n",
      "INFO:tensorflow:global_step/sec: 281.266\n",
      "INFO:tensorflow:loss = 2.2534e+11, step = 301 (0.349 sec)\n",
      "INFO:tensorflow:global_step/sec: 381.842\n",
      "INFO:tensorflow:loss = 1.05748e+11, step = 401 (0.260 sec)\n",
      "INFO:tensorflow:global_step/sec: 393.852\n",
      "INFO:tensorflow:loss = 4.13981e+10, step = 501 (0.255 sec)\n",
      "INFO:tensorflow:global_step/sec: 302.578\n",
      "INFO:tensorflow:loss = 1.12726e+11, step = 601 (0.333 sec)\n",
      "INFO:tensorflow:global_step/sec: 264.862\n",
      "INFO:tensorflow:loss = 1.22022e+11, step = 701 (0.374 sec)\n",
      "INFO:tensorflow:global_step/sec: 324.211\n",
      "INFO:tensorflow:loss = 1.60445e+11, step = 801 (0.311 sec)\n",
      "INFO:tensorflow:global_step/sec: 262.905\n",
      "INFO:tensorflow:loss = 1.49077e+11, step = 901 (0.377 sec)\n",
      "INFO:tensorflow:global_step/sec: 356.323\n",
      "INFO:tensorflow:loss = 1.83085e+11, step = 1001 (0.280 sec)\n",
      "INFO:tensorflow:global_step/sec: 340.809\n",
      "INFO:tensorflow:loss = 1.4547e+11, step = 1101 (0.294 sec)\n",
      "INFO:tensorflow:global_step/sec: 376.85\n",
      "INFO:tensorflow:loss = 3.52633e+10, step = 1201 (0.266 sec)\n",
      "INFO:tensorflow:global_step/sec: 403.134\n",
      "INFO:tensorflow:loss = 1.29061e+11, step = 1301 (0.247 sec)\n",
      "INFO:tensorflow:global_step/sec: 409.033\n",
      "INFO:tensorflow:loss = 2.50035e+11, step = 1401 (0.243 sec)\n",
      "INFO:tensorflow:global_step/sec: 249.247\n",
      "INFO:tensorflow:loss = 7.81499e+10, step = 1501 (0.403 sec)\n",
      "INFO:tensorflow:global_step/sec: 283.516\n",
      "INFO:tensorflow:loss = 1.28045e+11, step = 1601 (0.365 sec)\n",
      "INFO:tensorflow:global_step/sec: 299.587\n",
      "INFO:tensorflow:loss = 3.40209e+10, step = 1701 (0.326 sec)\n",
      "INFO:tensorflow:global_step/sec: 369.733\n",
      "INFO:tensorflow:loss = 6.46333e+10, step = 1801 (0.265 sec)\n",
      "INFO:tensorflow:global_step/sec: 387.916\n",
      "INFO:tensorflow:loss = 2.4459e+10, step = 1901 (0.259 sec)\n",
      "INFO:tensorflow:global_step/sec: 378.434\n",
      "INFO:tensorflow:loss = 9.27384e+10, step = 2001 (0.263 sec)\n",
      "INFO:tensorflow:global_step/sec: 397.039\n",
      "INFO:tensorflow:loss = 8.06193e+10, step = 2101 (0.256 sec)\n",
      "INFO:tensorflow:global_step/sec: 387.43\n",
      "INFO:tensorflow:loss = 4.92163e+10, step = 2201 (0.254 sec)\n",
      "INFO:tensorflow:global_step/sec: 370.551\n",
      "INFO:tensorflow:loss = 5.81271e+10, step = 2301 (0.269 sec)\n",
      "INFO:tensorflow:global_step/sec: 411.658\n",
      "INFO:tensorflow:loss = 9.60396e+10, step = 2401 (0.245 sec)\n",
      "INFO:tensorflow:global_step/sec: 404.378\n",
      "INFO:tensorflow:loss = 1.295e+11, step = 2501 (0.245 sec)\n",
      "INFO:tensorflow:global_step/sec: 397.282\n",
      "INFO:tensorflow:loss = 1.35027e+11, step = 2601 (0.254 sec)\n",
      "INFO:tensorflow:global_step/sec: 374.509\n",
      "INFO:tensorflow:loss = 6.98611e+10, step = 2701 (0.266 sec)\n",
      "INFO:tensorflow:global_step/sec: 372.701\n",
      "INFO:tensorflow:loss = 5.00727e+10, step = 2801 (0.267 sec)\n",
      "INFO:tensorflow:global_step/sec: 396.499\n",
      "INFO:tensorflow:loss = 1.31049e+11, step = 2901 (0.252 sec)\n",
      "INFO:tensorflow:global_step/sec: 334.151\n",
      "INFO:tensorflow:loss = 1.5046e+11, step = 3001 (0.305 sec)\n",
      "INFO:tensorflow:global_step/sec: 290.982\n",
      "INFO:tensorflow:loss = 4.79901e+10, step = 3101 (0.338 sec)\n",
      "INFO:tensorflow:global_step/sec: 399.817\n",
      "INFO:tensorflow:loss = 6.63963e+10, step = 3201 (0.250 sec)\n",
      "INFO:tensorflow:global_step/sec: 370.272\n",
      "INFO:tensorflow:loss = 4.22363e+10, step = 3301 (0.271 sec)\n",
      "INFO:tensorflow:global_step/sec: 413.445\n",
      "INFO:tensorflow:loss = 7.03361e+10, step = 3401 (0.240 sec)\n",
      "INFO:tensorflow:global_step/sec: 345.352\n",
      "INFO:tensorflow:loss = 9.73097e+10, step = 3501 (0.297 sec)\n",
      "INFO:tensorflow:global_step/sec: 299.156\n",
      "INFO:tensorflow:loss = 5.06552e+10, step = 3601 (0.328 sec)\n",
      "INFO:tensorflow:global_step/sec: 355.649\n",
      "INFO:tensorflow:loss = 1.79692e+11, step = 3701 (0.281 sec)\n",
      "INFO:tensorflow:global_step/sec: 342.228\n",
      "INFO:tensorflow:loss = 6.20599e+10, step = 3801 (0.295 sec)\n",
      "INFO:tensorflow:global_step/sec: 353.751\n",
      "INFO:tensorflow:loss = 5.19485e+10, step = 3901 (0.281 sec)\n",
      "INFO:tensorflow:global_step/sec: 340.477\n",
      "INFO:tensorflow:loss = 1.38245e+11, step = 4001 (0.292 sec)\n",
      "INFO:tensorflow:global_step/sec: 372.934\n",
      "INFO:tensorflow:loss = 8.51375e+10, step = 4101 (0.271 sec)\n",
      "INFO:tensorflow:global_step/sec: 305.075\n",
      "INFO:tensorflow:loss = 3.453e+10, step = 4201 (0.325 sec)\n",
      "INFO:tensorflow:global_step/sec: 360.793\n",
      "INFO:tensorflow:loss = 9.98547e+10, step = 4301 (0.276 sec)\n",
      "INFO:tensorflow:global_step/sec: 387.419\n",
      "INFO:tensorflow:loss = 8.68716e+10, step = 4401 (0.261 sec)\n",
      "INFO:tensorflow:global_step/sec: 362.104\n",
      "INFO:tensorflow:loss = 9.86244e+10, step = 4501 (0.278 sec)\n",
      "INFO:tensorflow:global_step/sec: 364.751\n",
      "INFO:tensorflow:loss = 1.81161e+11, step = 4601 (0.271 sec)\n",
      "INFO:tensorflow:global_step/sec: 366.763\n",
      "INFO:tensorflow:loss = 5.40313e+10, step = 4701 (0.276 sec)\n",
      "INFO:tensorflow:global_step/sec: 340.476\n",
      "INFO:tensorflow:loss = 3.37798e+10, step = 4801 (0.291 sec)\n",
      "INFO:tensorflow:global_step/sec: 360.797\n",
      "INFO:tensorflow:loss = 5.96016e+10, step = 4901 (0.275 sec)\n",
      "INFO:tensorflow:global_step/sec: 368.116\n",
      "INFO:tensorflow:loss = 9.8131e+10, step = 5001 (0.275 sec)\n",
      "INFO:tensorflow:global_step/sec: 313.709\n",
      "INFO:tensorflow:loss = 8.52575e+10, step = 5101 (0.320 sec)\n",
      "INFO:tensorflow:global_step/sec: 308.377\n",
      "INFO:tensorflow:loss = 1.49366e+11, step = 5201 (0.323 sec)\n",
      "INFO:tensorflow:global_step/sec: 361.447\n",
      "INFO:tensorflow:loss = 1.35257e+11, step = 5301 (0.275 sec)\n",
      "INFO:tensorflow:global_step/sec: 374.333\n",
      "INFO:tensorflow:loss = 9.44309e+10, step = 5401 (0.271 sec)\n",
      "INFO:tensorflow:global_step/sec: 374.333\n",
      "INFO:tensorflow:loss = 3.73082e+10, step = 5501 (0.264 sec)\n",
      "INFO:tensorflow:global_step/sec: 384.431\n",
      "INFO:tensorflow:loss = 4.08222e+10, step = 5601 (0.261 sec)\n",
      "INFO:tensorflow:global_step/sec: 375.037\n",
      "INFO:tensorflow:loss = 4.94902e+10, step = 5701 (0.264 sec)\n",
      "INFO:tensorflow:global_step/sec: 403.885\n",
      "INFO:tensorflow:loss = 2.56917e+10, step = 5801 (0.252 sec)\n",
      "INFO:tensorflow:global_step/sec: 391.983\n",
      "INFO:tensorflow:loss = 1.106e+11, step = 5901 (0.253 sec)\n",
      "INFO:tensorflow:global_step/sec: 392.227\n",
      "INFO:tensorflow:loss = 9.46866e+10, step = 6001 (0.257 sec)\n",
      "INFO:tensorflow:global_step/sec: 392.755\n",
      "INFO:tensorflow:loss = 1.37256e+10, step = 6101 (0.253 sec)\n",
      "INFO:tensorflow:global_step/sec: 385.918\n",
      "INFO:tensorflow:loss = 8.55032e+10, step = 6201 (0.260 sec)\n",
      "INFO:tensorflow:global_step/sec: 382.22\n",
      "INFO:tensorflow:loss = 4.88179e+10, step = 6301 (0.262 sec)\n",
      "INFO:tensorflow:global_step/sec: 333.088\n",
      "INFO:tensorflow:loss = 4.21114e+10, step = 6401 (0.302 sec)\n",
      "INFO:tensorflow:global_step/sec: 358.849\n",
      "INFO:tensorflow:loss = 4.66473e+10, step = 6501 (0.277 sec)\n",
      "INFO:tensorflow:global_step/sec: 365.421\n",
      "INFO:tensorflow:loss = 3.84828e+10, step = 6601 (0.274 sec)\n",
      "INFO:tensorflow:global_step/sec: 337.026\n",
      "INFO:tensorflow:loss = 1.39574e+11, step = 6701 (0.298 sec)\n",
      "INFO:tensorflow:global_step/sec: 285.028\n",
      "INFO:tensorflow:loss = 4.98756e+10, step = 6801 (0.350 sec)\n",
      "INFO:tensorflow:global_step/sec: 233.083\n",
      "INFO:tensorflow:loss = 2.24478e+10, step = 6901 (0.429 sec)\n",
      "INFO:tensorflow:global_step/sec: 247.543\n",
      "INFO:tensorflow:loss = 1.21998e+11, step = 7001 (0.410 sec)\n",
      "INFO:tensorflow:global_step/sec: 280.224\n",
      "INFO:tensorflow:loss = 9.19753e+10, step = 7101 (0.350 sec)\n",
      "INFO:tensorflow:global_step/sec: 297.79\n",
      "INFO:tensorflow:loss = 1.07877e+11, step = 7201 (0.338 sec)\n",
      "INFO:tensorflow:global_step/sec: 361.448\n",
      "INFO:tensorflow:loss = 7.27324e+10, step = 7301 (0.274 sec)\n",
      "INFO:tensorflow:global_step/sec: 335.327\n",
      "INFO:tensorflow:loss = 6.12907e+10, step = 7401 (0.300 sec)\n",
      "INFO:tensorflow:global_step/sec: 330.329\n",
      "INFO:tensorflow:loss = 1.02282e+11, step = 7501 (0.302 sec)\n",
      "INFO:tensorflow:global_step/sec: 313.218\n",
      "INFO:tensorflow:loss = 3.94512e+10, step = 7601 (0.322 sec)\n",
      "INFO:tensorflow:global_step/sec: 321.288\n",
      "INFO:tensorflow:loss = 4.28805e+10, step = 7701 (0.310 sec)\n",
      "INFO:tensorflow:global_step/sec: 321.805\n",
      "INFO:tensorflow:loss = 7.26078e+10, step = 7801 (0.309 sec)\n",
      "INFO:tensorflow:global_step/sec: 327.081\n",
      "INFO:tensorflow:loss = 5.00818e+10, step = 7901 (0.306 sec)\n",
      "INFO:tensorflow:global_step/sec: 299.579\n",
      "INFO:tensorflow:loss = 3.09576e+10, step = 8001 (0.349 sec)\n"
     ]
    },
    {
     "name": "stdout",
     "output_type": "stream",
     "text": [
      "INFO:tensorflow:global_step/sec: 251.283\n",
      "INFO:tensorflow:loss = 3.24793e+10, step = 8101 (0.388 sec)\n",
      "INFO:tensorflow:global_step/sec: 321.289\n",
      "INFO:tensorflow:loss = 1.42128e+11, step = 8201 (0.306 sec)\n",
      "INFO:tensorflow:global_step/sec: 351.267\n",
      "INFO:tensorflow:loss = 1.61049e+11, step = 8301 (0.287 sec)\n",
      "INFO:tensorflow:global_step/sec: 327.081\n",
      "INFO:tensorflow:loss = 2.58913e+10, step = 8401 (0.307 sec)\n",
      "INFO:tensorflow:global_step/sec: 306.952\n",
      "INFO:tensorflow:loss = 5.00323e+10, step = 8501 (0.322 sec)\n",
      "INFO:tensorflow:global_step/sec: 380.763\n",
      "INFO:tensorflow:loss = 2.59464e+10, step = 8601 (0.263 sec)\n",
      "INFO:tensorflow:global_step/sec: 226.466\n",
      "INFO:tensorflow:loss = 1.06798e+11, step = 8701 (0.458 sec)\n",
      "INFO:tensorflow:global_step/sec: 275.965\n",
      "INFO:tensorflow:loss = 2.45921e+10, step = 8801 (0.347 sec)\n",
      "INFO:tensorflow:global_step/sec: 396.661\n",
      "INFO:tensorflow:loss = 2.59331e+10, step = 8901 (0.252 sec)\n",
      "INFO:tensorflow:global_step/sec: 402.256\n",
      "INFO:tensorflow:loss = 9.51727e+10, step = 9001 (0.250 sec)\n",
      "INFO:tensorflow:global_step/sec: 413.941\n",
      "INFO:tensorflow:loss = 3.04076e+10, step = 9101 (0.240 sec)\n",
      "INFO:tensorflow:global_step/sec: 351.886\n",
      "INFO:tensorflow:loss = 3.97412e+10, step = 9201 (0.285 sec)\n",
      "INFO:tensorflow:global_step/sec: 300.934\n",
      "INFO:tensorflow:loss = 5.21229e+10, step = 9301 (0.339 sec)\n",
      "INFO:tensorflow:global_step/sec: 302.301\n",
      "INFO:tensorflow:loss = 9.41445e+10, step = 9401 (0.329 sec)\n",
      "INFO:tensorflow:global_step/sec: 319.743\n",
      "INFO:tensorflow:loss = 4.62599e+10, step = 9501 (0.309 sec)\n",
      "INFO:tensorflow:global_step/sec: 296.463\n",
      "INFO:tensorflow:loss = 2.78369e+10, step = 9601 (0.341 sec)\n",
      "INFO:tensorflow:global_step/sec: 283.006\n",
      "INFO:tensorflow:loss = 2.85165e+10, step = 9701 (0.355 sec)\n",
      "INFO:tensorflow:global_step/sec: 272.94\n",
      "INFO:tensorflow:loss = 5.47948e+10, step = 9801 (0.365 sec)\n",
      "INFO:tensorflow:global_step/sec: 305.077\n",
      "INFO:tensorflow:loss = 7.51103e+10, step = 9901 (0.323 sec)\n",
      "INFO:tensorflow:Saving checkpoints for 10000 into C:\\Users\\Yassine\\AppData\\Local\\Temp\\tmpnt2t416s\\model.ckpt.\n",
      "INFO:tensorflow:Loss for final step: 1.84666e+10.\n"
     ]
    },
    {
     "data": {
      "text/plain": [
       "<tensorflow.python.estimator.canned.dnn.DNNRegressor at 0x259f35a7f60>"
      ]
     },
     "execution_count": 99,
     "metadata": {},
     "output_type": "execute_result"
    }
   ],
   "source": [
    "dnn_model.train(input_fn=input_func, steps=10000)"
   ]
  },
  {
   "cell_type": "markdown",
   "metadata": {},
   "source": [
    "<b>Evaluating the model</b>"
   ]
  },
  {
   "cell_type": "code",
   "execution_count": 100,
   "metadata": {},
   "outputs": [
    {
     "name": "stdout",
     "output_type": "stream",
     "text": [
      "INFO:tensorflow:Restoring parameters from C:\\Users\\Yassine\\AppData\\Local\\Temp\\tmpnt2t416s\\model.ckpt-10000\n"
     ]
    }
   ],
   "source": [
    "predictions = []\n",
    "\n",
    "for pred in list(dnn_model.predict(input_fn=predict_input_func)):\n",
    "    \n",
    "    predictions.append(pred['predictions'])"
   ]
  },
  {
   "cell_type": "code",
   "execution_count": 101,
   "metadata": {
    "collapsed": true
   },
   "outputs": [],
   "source": [
    "rms = sqrt(mean_squared_error(y_test, predictions))"
   ]
  },
  {
   "cell_type": "code",
   "execution_count": 102,
   "metadata": {},
   "outputs": [
    {
     "data": {
      "text/plain": [
       "82752.54471460344"
      ]
     },
     "execution_count": 102,
     "metadata": {},
     "output_type": "execute_result"
    }
   ],
   "source": [
    "rms"
   ]
  },
  {
   "cell_type": "markdown",
   "metadata": {},
   "source": [
    "<b>Now, let's try the Linear Regressor to compare</b>"
   ]
  },
  {
   "cell_type": "code",
   "execution_count": 103,
   "metadata": {},
   "outputs": [
    {
     "name": "stdout",
     "output_type": "stream",
     "text": [
      "INFO:tensorflow:Using default config.\n",
      "WARNING:tensorflow:Using temporary folder as model directory: C:\\Users\\Yassine\\AppData\\Local\\Temp\\tmp49iahg9h\n",
      "INFO:tensorflow:Using config: {'_session_config': None, '_keep_checkpoint_max': 5, '_save_checkpoints_steps': None, '_save_checkpoints_secs': 600, '_model_dir': 'C:\\\\Users\\\\Yassine\\\\AppData\\\\Local\\\\Temp\\\\tmp49iahg9h', '_keep_checkpoint_every_n_hours': 10000, '_tf_random_seed': 1, '_save_summary_steps': 100, '_log_step_count_steps': 100}\n"
     ]
    }
   ],
   "source": [
    "linear_regressor = tf.estimator.LinearRegressor(feature_columns=feat_cols)"
   ]
  },
  {
   "cell_type": "code",
   "execution_count": 104,
   "metadata": {},
   "outputs": [
    {
     "name": "stdout",
     "output_type": "stream",
     "text": [
      "INFO:tensorflow:Create CheckpointSaverHook.\n",
      "INFO:tensorflow:Saving checkpoints for 1 into C:\\Users\\Yassine\\AppData\\Local\\Temp\\tmp49iahg9h\\model.ckpt.\n",
      "INFO:tensorflow:loss = 2.56799e+11, step = 1\n",
      "INFO:tensorflow:global_step/sec: 391.17\n",
      "INFO:tensorflow:loss = 5.55317e+11, step = 101 (0.263 sec)\n",
      "INFO:tensorflow:global_step/sec: 394.712\n",
      "INFO:tensorflow:loss = 6.06187e+11, step = 201 (0.254 sec)\n",
      "INFO:tensorflow:global_step/sec: 413.399\n",
      "INFO:tensorflow:loss = 3.38159e+11, step = 301 (0.248 sec)\n",
      "INFO:tensorflow:global_step/sec: 408.892\n",
      "INFO:tensorflow:loss = 9.9131e+11, step = 401 (0.239 sec)\n",
      "INFO:tensorflow:global_step/sec: 410.491\n",
      "INFO:tensorflow:loss = 4.89424e+11, step = 501 (0.245 sec)\n",
      "INFO:tensorflow:global_step/sec: 344.949\n",
      "INFO:tensorflow:loss = 4.69638e+11, step = 601 (0.288 sec)\n",
      "INFO:tensorflow:global_step/sec: 394.217\n",
      "INFO:tensorflow:loss = 5.18501e+11, step = 701 (0.250 sec)\n",
      "INFO:tensorflow:global_step/sec: 427.23\n",
      "INFO:tensorflow:loss = 2.83856e+11, step = 801 (0.229 sec)\n",
      "INFO:tensorflow:global_step/sec: 450.849\n",
      "INFO:tensorflow:loss = 1.85291e+11, step = 901 (0.237 sec)\n",
      "INFO:tensorflow:global_step/sec: 404.15\n",
      "INFO:tensorflow:loss = 4.48946e+11, step = 1001 (0.232 sec)\n",
      "INFO:tensorflow:global_step/sec: 429.076\n",
      "INFO:tensorflow:loss = 5.81086e+11, step = 1101 (0.235 sec)\n",
      "INFO:tensorflow:global_step/sec: 415.336\n",
      "INFO:tensorflow:loss = 5.32427e+11, step = 1201 (0.247 sec)\n",
      "INFO:tensorflow:global_step/sec: 381.17\n",
      "INFO:tensorflow:loss = 7.07402e+11, step = 1301 (0.264 sec)\n",
      "INFO:tensorflow:global_step/sec: 377.608\n",
      "INFO:tensorflow:loss = 6.63335e+11, step = 1401 (0.271 sec)\n",
      "INFO:tensorflow:global_step/sec: 424.276\n",
      "INFO:tensorflow:loss = 5.6494e+11, step = 1501 (0.238 sec)\n",
      "INFO:tensorflow:global_step/sec: 401.346\n",
      "INFO:tensorflow:loss = 2.36882e+11, step = 1601 (0.232 sec)\n",
      "INFO:tensorflow:global_step/sec: 261.638\n",
      "INFO:tensorflow:loss = 6.19442e+11, step = 1701 (0.399 sec)\n",
      "INFO:tensorflow:global_step/sec: 268.547\n",
      "INFO:tensorflow:loss = 5.0256e+11, step = 1801 (0.371 sec)\n",
      "INFO:tensorflow:global_step/sec: 330.479\n",
      "INFO:tensorflow:loss = 4.76707e+11, step = 1901 (0.293 sec)\n",
      "INFO:tensorflow:global_step/sec: 388.731\n",
      "INFO:tensorflow:loss = 6.99483e+11, step = 2001 (0.259 sec)\n",
      "INFO:tensorflow:global_step/sec: 416.273\n",
      "INFO:tensorflow:loss = 3.93591e+11, step = 2101 (0.241 sec)\n",
      "INFO:tensorflow:global_step/sec: 396.109\n",
      "INFO:tensorflow:loss = 4.00077e+11, step = 2201 (0.252 sec)\n",
      "INFO:tensorflow:global_step/sec: 398.693\n",
      "INFO:tensorflow:loss = 3.80668e+11, step = 2301 (0.252 sec)\n",
      "INFO:tensorflow:global_step/sec: 395.977\n",
      "INFO:tensorflow:loss = 4.26887e+11, step = 2401 (0.252 sec)\n",
      "INFO:tensorflow:global_step/sec: 406.769\n",
      "INFO:tensorflow:loss = 5.15603e+11, step = 2501 (0.245 sec)\n",
      "INFO:tensorflow:global_step/sec: 404.583\n",
      "INFO:tensorflow:loss = 1.13249e+12, step = 2601 (0.240 sec)\n",
      "INFO:tensorflow:global_step/sec: 432.935\n",
      "INFO:tensorflow:loss = 6.34954e+11, step = 2701 (0.231 sec)\n",
      "INFO:tensorflow:global_step/sec: 253.98\n",
      "INFO:tensorflow:loss = 9.97753e+11, step = 2801 (0.408 sec)\n",
      "INFO:tensorflow:global_step/sec: 309.561\n",
      "INFO:tensorflow:loss = 4.02929e+11, step = 2901 (0.319 sec)\n",
      "INFO:tensorflow:global_step/sec: 420.828\n",
      "INFO:tensorflow:loss = 3.71905e+11, step = 3001 (0.228 sec)\n",
      "INFO:tensorflow:global_step/sec: 423.181\n",
      "INFO:tensorflow:loss = 3.85544e+11, step = 3101 (0.236 sec)\n",
      "INFO:tensorflow:global_step/sec: 416.524\n",
      "INFO:tensorflow:loss = 5.98434e+11, step = 3201 (0.248 sec)\n",
      "INFO:tensorflow:global_step/sec: 417.18\n",
      "INFO:tensorflow:loss = 1.95232e+11, step = 3301 (0.232 sec)\n",
      "INFO:tensorflow:global_step/sec: 431.11\n",
      "INFO:tensorflow:loss = 4.07512e+11, step = 3401 (0.248 sec)\n",
      "INFO:tensorflow:global_step/sec: 390.267\n",
      "INFO:tensorflow:loss = 4.83324e+11, step = 3501 (0.243 sec)\n",
      "INFO:tensorflow:global_step/sec: 438.025\n",
      "INFO:tensorflow:loss = 3.57029e+11, step = 3601 (0.226 sec)\n",
      "INFO:tensorflow:global_step/sec: 374.787\n",
      "INFO:tensorflow:loss = 5.53075e+11, step = 3701 (0.279 sec)\n",
      "INFO:tensorflow:global_step/sec: 263.471\n",
      "INFO:tensorflow:loss = 1.03328e+12, step = 3801 (0.379 sec)\n",
      "INFO:tensorflow:global_step/sec: 244.738\n",
      "INFO:tensorflow:loss = 6.3991e+11, step = 3901 (0.403 sec)\n",
      "INFO:tensorflow:global_step/sec: 255.07\n",
      "INFO:tensorflow:loss = 3.69223e+11, step = 4001 (0.401 sec)\n",
      "INFO:tensorflow:global_step/sec: 253.77\n",
      "INFO:tensorflow:loss = 9.16016e+11, step = 4101 (0.389 sec)\n",
      "INFO:tensorflow:global_step/sec: 250.626\n",
      "INFO:tensorflow:loss = 3.83721e+11, step = 4201 (0.400 sec)\n",
      "INFO:tensorflow:global_step/sec: 277.881\n",
      "INFO:tensorflow:loss = 2.66757e+11, step = 4301 (0.370 sec)\n",
      "INFO:tensorflow:global_step/sec: 254.429\n",
      "INFO:tensorflow:loss = 5.99824e+11, step = 4401 (0.388 sec)\n",
      "INFO:tensorflow:global_step/sec: 298.058\n",
      "INFO:tensorflow:loss = 3.55691e+11, step = 4501 (0.321 sec)\n",
      "INFO:tensorflow:global_step/sec: 412.584\n",
      "INFO:tensorflow:loss = 4.63423e+11, step = 4601 (0.259 sec)\n",
      "INFO:tensorflow:global_step/sec: 402.154\n",
      "INFO:tensorflow:loss = 5.90376e+11, step = 4701 (0.233 sec)\n",
      "INFO:tensorflow:global_step/sec: 463.009\n",
      "INFO:tensorflow:loss = 5.86277e+11, step = 4801 (0.232 sec)\n",
      "INFO:tensorflow:global_step/sec: 394.617\n",
      "INFO:tensorflow:loss = 6.55284e+11, step = 4901 (0.238 sec)\n",
      "INFO:tensorflow:global_step/sec: 432.381\n",
      "INFO:tensorflow:loss = 4.98682e+11, step = 5001 (0.247 sec)\n",
      "INFO:tensorflow:global_step/sec: 405.607\n",
      "INFO:tensorflow:loss = 2.11721e+11, step = 5101 (0.236 sec)\n",
      "INFO:tensorflow:global_step/sec: 419.712\n",
      "INFO:tensorflow:loss = 2.98293e+11, step = 5201 (0.249 sec)\n",
      "INFO:tensorflow:global_step/sec: 432.318\n",
      "INFO:tensorflow:loss = 5.10407e+11, step = 5301 (0.231 sec)\n",
      "INFO:tensorflow:global_step/sec: 432.211\n",
      "INFO:tensorflow:loss = 4.47249e+11, step = 5401 (0.233 sec)\n",
      "INFO:tensorflow:global_step/sec: 420.646\n",
      "INFO:tensorflow:loss = 7.79816e+11, step = 5501 (0.220 sec)\n",
      "INFO:tensorflow:global_step/sec: 432.024\n",
      "INFO:tensorflow:loss = 1.62933e+11, step = 5601 (0.231 sec)\n",
      "INFO:tensorflow:global_step/sec: 431.875\n",
      "INFO:tensorflow:loss = 6.24965e+11, step = 5701 (0.232 sec)\n",
      "INFO:tensorflow:global_step/sec: 450.494\n",
      "INFO:tensorflow:loss = 6.22695e+11, step = 5801 (0.222 sec)\n",
      "INFO:tensorflow:global_step/sec: 431.602\n",
      "INFO:tensorflow:loss = 6.71939e+11, step = 5901 (0.247 sec)\n",
      "INFO:tensorflow:global_step/sec: 431.196\n",
      "INFO:tensorflow:loss = 5.28006e+11, step = 6001 (0.232 sec)\n",
      "INFO:tensorflow:global_step/sec: 421.145\n",
      "INFO:tensorflow:loss = 8.31317e+11, step = 6101 (0.222 sec)\n",
      "INFO:tensorflow:global_step/sec: 418.265\n",
      "INFO:tensorflow:loss = 3.71847e+11, step = 6201 (0.246 sec)\n",
      "INFO:tensorflow:global_step/sec: 425.094\n",
      "INFO:tensorflow:loss = 3.34674e+11, step = 6301 (0.228 sec)\n",
      "INFO:tensorflow:global_step/sec: 441.13\n",
      "INFO:tensorflow:loss = 1.15863e+12, step = 6401 (0.242 sec)\n",
      "INFO:tensorflow:global_step/sec: 432.887\n",
      "INFO:tensorflow:loss = 5.85776e+11, step = 6501 (0.215 sec)\n",
      "INFO:tensorflow:global_step/sec: 432.634\n",
      "INFO:tensorflow:loss = 5.53652e+11, step = 6601 (0.247 sec)\n",
      "INFO:tensorflow:global_step/sec: 351.871\n",
      "INFO:tensorflow:loss = 6.35127e+11, step = 6701 (0.278 sec)\n",
      "INFO:tensorflow:global_step/sec: 232.771\n",
      "INFO:tensorflow:loss = 5.24604e+11, step = 6801 (0.425 sec)\n",
      "INFO:tensorflow:global_step/sec: 326.292\n",
      "INFO:tensorflow:loss = 6.1621e+11, step = 6901 (0.321 sec)\n",
      "INFO:tensorflow:global_step/sec: 396.412\n",
      "INFO:tensorflow:loss = 8.00976e+11, step = 7001 (0.242 sec)\n",
      "INFO:tensorflow:global_step/sec: 420.782\n",
      "INFO:tensorflow:loss = 5.45771e+11, step = 7101 (0.236 sec)\n",
      "INFO:tensorflow:global_step/sec: 407.766\n",
      "INFO:tensorflow:loss = 7.25527e+11, step = 7201 (0.239 sec)\n",
      "INFO:tensorflow:global_step/sec: 432.677\n",
      "INFO:tensorflow:loss = 2.6148e+11, step = 7301 (0.231 sec)\n",
      "INFO:tensorflow:global_step/sec: 395.182\n",
      "INFO:tensorflow:loss = 2.81331e+11, step = 7401 (0.254 sec)\n",
      "INFO:tensorflow:global_step/sec: 402.076\n",
      "INFO:tensorflow:loss = 7.04475e+11, step = 7501 (0.255 sec)\n",
      "INFO:tensorflow:global_step/sec: 415.636\n",
      "INFO:tensorflow:loss = 7.35065e+11, step = 7601 (0.242 sec)\n",
      "INFO:tensorflow:global_step/sec: 399.857\n",
      "INFO:tensorflow:loss = 3.90215e+11, step = 7701 (0.242 sec)\n",
      "INFO:tensorflow:global_step/sec: 395.305\n",
      "INFO:tensorflow:loss = 3.83183e+11, step = 7801 (0.261 sec)\n",
      "INFO:tensorflow:global_step/sec: 419.054\n",
      "INFO:tensorflow:loss = 6.41009e+11, step = 7901 (0.237 sec)\n",
      "INFO:tensorflow:global_step/sec: 427.797\n",
      "INFO:tensorflow:loss = 5.56239e+11, step = 8001 (0.242 sec)\n"
     ]
    },
    {
     "name": "stdout",
     "output_type": "stream",
     "text": [
      "INFO:tensorflow:global_step/sec: 394.797\n",
      "INFO:tensorflow:loss = 5.30947e+11, step = 8101 (0.238 sec)\n",
      "INFO:tensorflow:global_step/sec: 463.287\n",
      "INFO:tensorflow:loss = 1.03621e+12, step = 8201 (0.216 sec)\n",
      "INFO:tensorflow:global_step/sec: 456.098\n",
      "INFO:tensorflow:loss = 5.40185e+11, step = 8301 (0.235 sec)\n",
      "INFO:tensorflow:global_step/sec: 411.142\n",
      "INFO:tensorflow:loss = 5.14475e+11, step = 8401 (0.234 sec)\n",
      "INFO:tensorflow:global_step/sec: 484.284\n",
      "INFO:tensorflow:loss = 3.95601e+11, step = 8501 (0.228 sec)\n",
      "INFO:tensorflow:global_step/sec: 433.491\n",
      "INFO:tensorflow:loss = 3.27013e+11, step = 8601 (0.203 sec)\n",
      "INFO:tensorflow:global_step/sec: 450.544\n",
      "INFO:tensorflow:loss = 4.8292e+11, step = 8701 (0.238 sec)\n",
      "INFO:tensorflow:global_step/sec: 413.744\n",
      "INFO:tensorflow:loss = 3.43671e+11, step = 8801 (0.232 sec)\n",
      "INFO:tensorflow:global_step/sec: 486.344\n",
      "INFO:tensorflow:loss = 6.32262e+11, step = 8901 (0.224 sec)\n",
      "INFO:tensorflow:global_step/sec: 432.029\n",
      "INFO:tensorflow:loss = 6.02241e+11, step = 9001 (0.223 sec)\n",
      "INFO:tensorflow:global_step/sec: 432.218\n",
      "INFO:tensorflow:loss = 6.88709e+11, step = 9101 (0.216 sec)\n",
      "INFO:tensorflow:global_step/sec: 421.509\n",
      "INFO:tensorflow:loss = 8.98444e+11, step = 9201 (0.237 sec)\n",
      "INFO:tensorflow:global_step/sec: 462.974\n",
      "INFO:tensorflow:loss = 6.46275e+11, step = 9301 (0.232 sec)\n",
      "INFO:tensorflow:global_step/sec: 432.532\n",
      "INFO:tensorflow:loss = 6.27246e+11, step = 9401 (0.231 sec)\n",
      "INFO:tensorflow:global_step/sec: 431.66\n",
      "INFO:tensorflow:loss = 5.79463e+11, step = 9501 (0.216 sec)\n",
      "INFO:tensorflow:global_step/sec: 450.946\n",
      "INFO:tensorflow:loss = 7.2075e+11, step = 9601 (0.239 sec)\n",
      "INFO:tensorflow:global_step/sec: 431.846\n",
      "INFO:tensorflow:loss = 5.08788e+11, step = 9701 (0.221 sec)\n",
      "INFO:tensorflow:global_step/sec: 463.581\n",
      "INFO:tensorflow:loss = 9.82643e+11, step = 9801 (0.224 sec)\n",
      "INFO:tensorflow:global_step/sec: 432.535\n",
      "INFO:tensorflow:loss = 6.40709e+11, step = 9901 (0.216 sec)\n",
      "INFO:tensorflow:Saving checkpoints for 10000 into C:\\Users\\Yassine\\AppData\\Local\\Temp\\tmp49iahg9h\\model.ckpt.\n",
      "INFO:tensorflow:Loss for final step: 5.02703e+11.\n"
     ]
    },
    {
     "data": {
      "text/plain": [
       "<tensorflow.python.estimator.canned.linear.LinearRegressor at 0x259f6f7b198>"
      ]
     },
     "execution_count": 104,
     "metadata": {},
     "output_type": "execute_result"
    }
   ],
   "source": [
    "linear_regressor.train(input_fn=input_func,steps=10000)"
   ]
  },
  {
   "cell_type": "code",
   "execution_count": 105,
   "metadata": {},
   "outputs": [
    {
     "name": "stdout",
     "output_type": "stream",
     "text": [
      "INFO:tensorflow:Restoring parameters from C:\\Users\\Yassine\\AppData\\Local\\Temp\\tmp49iahg9h\\model.ckpt-10000\n"
     ]
    }
   ],
   "source": [
    "linear_predictions = []\n",
    "\n",
    "for pred in list(linear_regressor.predict(input_fn=predict_input_func)):\n",
    "    \n",
    "    linear_predictions.append(pred['predictions'])"
   ]
  },
  {
   "cell_type": "code",
   "execution_count": 107,
   "metadata": {
    "collapsed": true
   },
   "outputs": [],
   "source": [
    "linear_rmse = sqrt(mean_squared_error(y_true=y_test, y_pred=linear_predictions))"
   ]
  },
  {
   "cell_type": "code",
   "execution_count": 108,
   "metadata": {},
   "outputs": [
    {
     "data": {
      "text/plain": [
       "237951.4378283516"
      ]
     },
     "execution_count": 108,
     "metadata": {},
     "output_type": "execute_result"
    }
   ],
   "source": [
    "linear_rmse"
   ]
  },
  {
   "cell_type": "markdown",
   "metadata": {},
   "source": [
    "<h2>Conclusion</h2>\n",
    "<br>\n",
    "We can notice that the DNN is performing way better than the TF Linear regressor.\n",
    "<br>\n",
    "But we still can improve the DNN's performance by :\n",
    "- Adding more data\n",
    "- Increasing the training steps\n",
    "- Increasing the number of layers/neurons per layer"
   ]
  }
 ],
 "metadata": {
  "kernelspec": {
   "display_name": "Python 3",
   "language": "python",
   "name": "python3"
  },
  "language_info": {
   "codemirror_mode": {
    "name": "ipython",
    "version": 3
   },
   "file_extension": ".py",
   "mimetype": "text/x-python",
   "name": "python",
   "nbconvert_exporter": "python",
   "pygments_lexer": "ipython3",
   "version": "3.5.4"
  }
 },
 "nbformat": 4,
 "nbformat_minor": 2
}
