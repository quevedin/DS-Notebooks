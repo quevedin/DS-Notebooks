{
 "cells": [
  {
   "cell_type": "markdown",
   "metadata": {},
   "source": [
    "<h2>Introduction</h2>\n",
    "<br>\n",
    "Welcome to this new notebook, where the goal is to predict whether a person earns more or less than 50K/year\n",
    "<br>\n",
    "Classification problem, let's dive into it !"
   ]
  },
  {
   "cell_type": "markdown",
   "metadata": {},
   "source": [
    "<b>Importing stuff</b>"
   ]
  },
  {
   "cell_type": "code",
   "execution_count": 47,
   "metadata": {
    "collapsed": true
   },
   "outputs": [],
   "source": [
    "import pandas as pd\n",
    "import tensorflow as tf\n",
    "\n",
    "from sklearn.model_selection import train_test_split\n",
    "from sklearn.preprocessing import StandardScaler\n",
    "\n",
    "import matplotlib.pyplot as plt\n",
    "%matplotlib inline"
   ]
  },
  {
   "cell_type": "markdown",
   "metadata": {},
   "source": [
    "<b>Reading the dataset</b>"
   ]
  },
  {
   "cell_type": "code",
   "execution_count": 2,
   "metadata": {
    "collapsed": true
   },
   "outputs": [],
   "source": [
    "df = pd.read_csv(\"census_data.csv\")"
   ]
  },
  {
   "cell_type": "code",
   "execution_count": 3,
   "metadata": {},
   "outputs": [
    {
     "data": {
      "text/html": [
       "<div>\n",
       "<style>\n",
       "    .dataframe thead tr:only-child th {\n",
       "        text-align: right;\n",
       "    }\n",
       "\n",
       "    .dataframe thead th {\n",
       "        text-align: left;\n",
       "    }\n",
       "\n",
       "    .dataframe tbody tr th {\n",
       "        vertical-align: top;\n",
       "    }\n",
       "</style>\n",
       "<table border=\"1\" class=\"dataframe\">\n",
       "  <thead>\n",
       "    <tr style=\"text-align: right;\">\n",
       "      <th></th>\n",
       "      <th>age</th>\n",
       "      <th>workclass</th>\n",
       "      <th>education</th>\n",
       "      <th>education_num</th>\n",
       "      <th>marital_status</th>\n",
       "      <th>occupation</th>\n",
       "      <th>relationship</th>\n",
       "      <th>race</th>\n",
       "      <th>gender</th>\n",
       "      <th>capital_gain</th>\n",
       "      <th>capital_loss</th>\n",
       "      <th>hours_per_week</th>\n",
       "      <th>native_country</th>\n",
       "      <th>income_bracket</th>\n",
       "    </tr>\n",
       "  </thead>\n",
       "  <tbody>\n",
       "    <tr>\n",
       "      <th>0</th>\n",
       "      <td>39</td>\n",
       "      <td>State-gov</td>\n",
       "      <td>Bachelors</td>\n",
       "      <td>13</td>\n",
       "      <td>Never-married</td>\n",
       "      <td>Adm-clerical</td>\n",
       "      <td>Not-in-family</td>\n",
       "      <td>White</td>\n",
       "      <td>Male</td>\n",
       "      <td>2174</td>\n",
       "      <td>0</td>\n",
       "      <td>40</td>\n",
       "      <td>United-States</td>\n",
       "      <td>&lt;=50K</td>\n",
       "    </tr>\n",
       "    <tr>\n",
       "      <th>1</th>\n",
       "      <td>50</td>\n",
       "      <td>Self-emp-not-inc</td>\n",
       "      <td>Bachelors</td>\n",
       "      <td>13</td>\n",
       "      <td>Married-civ-spouse</td>\n",
       "      <td>Exec-managerial</td>\n",
       "      <td>Husband</td>\n",
       "      <td>White</td>\n",
       "      <td>Male</td>\n",
       "      <td>0</td>\n",
       "      <td>0</td>\n",
       "      <td>13</td>\n",
       "      <td>United-States</td>\n",
       "      <td>&lt;=50K</td>\n",
       "    </tr>\n",
       "    <tr>\n",
       "      <th>2</th>\n",
       "      <td>38</td>\n",
       "      <td>Private</td>\n",
       "      <td>HS-grad</td>\n",
       "      <td>9</td>\n",
       "      <td>Divorced</td>\n",
       "      <td>Handlers-cleaners</td>\n",
       "      <td>Not-in-family</td>\n",
       "      <td>White</td>\n",
       "      <td>Male</td>\n",
       "      <td>0</td>\n",
       "      <td>0</td>\n",
       "      <td>40</td>\n",
       "      <td>United-States</td>\n",
       "      <td>&lt;=50K</td>\n",
       "    </tr>\n",
       "    <tr>\n",
       "      <th>3</th>\n",
       "      <td>53</td>\n",
       "      <td>Private</td>\n",
       "      <td>11th</td>\n",
       "      <td>7</td>\n",
       "      <td>Married-civ-spouse</td>\n",
       "      <td>Handlers-cleaners</td>\n",
       "      <td>Husband</td>\n",
       "      <td>Black</td>\n",
       "      <td>Male</td>\n",
       "      <td>0</td>\n",
       "      <td>0</td>\n",
       "      <td>40</td>\n",
       "      <td>United-States</td>\n",
       "      <td>&lt;=50K</td>\n",
       "    </tr>\n",
       "    <tr>\n",
       "      <th>4</th>\n",
       "      <td>28</td>\n",
       "      <td>Private</td>\n",
       "      <td>Bachelors</td>\n",
       "      <td>13</td>\n",
       "      <td>Married-civ-spouse</td>\n",
       "      <td>Prof-specialty</td>\n",
       "      <td>Wife</td>\n",
       "      <td>Black</td>\n",
       "      <td>Female</td>\n",
       "      <td>0</td>\n",
       "      <td>0</td>\n",
       "      <td>40</td>\n",
       "      <td>Cuba</td>\n",
       "      <td>&lt;=50K</td>\n",
       "    </tr>\n",
       "  </tbody>\n",
       "</table>\n",
       "</div>"
      ],
      "text/plain": [
       "   age          workclass   education  education_num       marital_status  \\\n",
       "0   39          State-gov   Bachelors             13        Never-married   \n",
       "1   50   Self-emp-not-inc   Bachelors             13   Married-civ-spouse   \n",
       "2   38            Private     HS-grad              9             Divorced   \n",
       "3   53            Private        11th              7   Married-civ-spouse   \n",
       "4   28            Private   Bachelors             13   Married-civ-spouse   \n",
       "\n",
       "           occupation    relationship    race   gender  capital_gain  \\\n",
       "0        Adm-clerical   Not-in-family   White     Male          2174   \n",
       "1     Exec-managerial         Husband   White     Male             0   \n",
       "2   Handlers-cleaners   Not-in-family   White     Male             0   \n",
       "3   Handlers-cleaners         Husband   Black     Male             0   \n",
       "4      Prof-specialty            Wife   Black   Female             0   \n",
       "\n",
       "   capital_loss  hours_per_week  native_country income_bracket  \n",
       "0             0              40   United-States          <=50K  \n",
       "1             0              13   United-States          <=50K  \n",
       "2             0              40   United-States          <=50K  \n",
       "3             0              40   United-States          <=50K  \n",
       "4             0              40            Cuba          <=50K  "
      ]
     },
     "execution_count": 3,
     "metadata": {},
     "output_type": "execute_result"
    }
   ],
   "source": [
    "df.head()"
   ]
  },
  {
   "cell_type": "code",
   "execution_count": 5,
   "metadata": {},
   "outputs": [
    {
     "data": {
      "text/plain": [
       "age               0\n",
       "workclass         0\n",
       "education         0\n",
       "education_num     0\n",
       "marital_status    0\n",
       "occupation        0\n",
       "relationship      0\n",
       "race              0\n",
       "gender            0\n",
       "capital_gain      0\n",
       "capital_loss      0\n",
       "hours_per_week    0\n",
       "native_country    0\n",
       "income_bracket    0\n",
       "dtype: int64"
      ]
     },
     "execution_count": 5,
     "metadata": {},
     "output_type": "execute_result"
    }
   ],
   "source": [
    "df.isnull().sum()"
   ]
  },
  {
   "cell_type": "code",
   "execution_count": 6,
   "metadata": {},
   "outputs": [
    {
     "data": {
      "text/plain": [
       "age                int64\n",
       "workclass         object\n",
       "education         object\n",
       "education_num      int64\n",
       "marital_status    object\n",
       "occupation        object\n",
       "relationship      object\n",
       "race              object\n",
       "gender            object\n",
       "capital_gain       int64\n",
       "capital_loss       int64\n",
       "hours_per_week     int64\n",
       "native_country    object\n",
       "income_bracket    object\n",
       "dtype: object"
      ]
     },
     "execution_count": 6,
     "metadata": {},
     "output_type": "execute_result"
    }
   ],
   "source": [
    "df.dtypes"
   ]
  },
  {
   "cell_type": "code",
   "execution_count": 15,
   "metadata": {},
   "outputs": [
    {
     "data": {
      "text/html": [
       "<div>\n",
       "<style>\n",
       "    .dataframe thead tr:only-child th {\n",
       "        text-align: right;\n",
       "    }\n",
       "\n",
       "    .dataframe thead th {\n",
       "        text-align: left;\n",
       "    }\n",
       "\n",
       "    .dataframe tbody tr th {\n",
       "        vertical-align: top;\n",
       "    }\n",
       "</style>\n",
       "<table border=\"1\" class=\"dataframe\">\n",
       "  <thead>\n",
       "    <tr style=\"text-align: right;\">\n",
       "      <th></th>\n",
       "      <th>education</th>\n",
       "      <th>education_num</th>\n",
       "    </tr>\n",
       "  </thead>\n",
       "  <tbody>\n",
       "    <tr>\n",
       "      <th>0</th>\n",
       "      <td>Bachelors</td>\n",
       "      <td>13</td>\n",
       "    </tr>\n",
       "    <tr>\n",
       "      <th>2</th>\n",
       "      <td>HS-grad</td>\n",
       "      <td>9</td>\n",
       "    </tr>\n",
       "    <tr>\n",
       "      <th>3</th>\n",
       "      <td>11th</td>\n",
       "      <td>7</td>\n",
       "    </tr>\n",
       "    <tr>\n",
       "      <th>5</th>\n",
       "      <td>Masters</td>\n",
       "      <td>14</td>\n",
       "    </tr>\n",
       "    <tr>\n",
       "      <th>6</th>\n",
       "      <td>9th</td>\n",
       "      <td>5</td>\n",
       "    </tr>\n",
       "    <tr>\n",
       "      <th>10</th>\n",
       "      <td>Some-college</td>\n",
       "      <td>10</td>\n",
       "    </tr>\n",
       "    <tr>\n",
       "      <th>13</th>\n",
       "      <td>Assoc-acdm</td>\n",
       "      <td>12</td>\n",
       "    </tr>\n",
       "    <tr>\n",
       "      <th>14</th>\n",
       "      <td>Assoc-voc</td>\n",
       "      <td>11</td>\n",
       "    </tr>\n",
       "    <tr>\n",
       "      <th>15</th>\n",
       "      <td>7th-8th</td>\n",
       "      <td>4</td>\n",
       "    </tr>\n",
       "    <tr>\n",
       "      <th>20</th>\n",
       "      <td>Doctorate</td>\n",
       "      <td>16</td>\n",
       "    </tr>\n",
       "    <tr>\n",
       "      <th>52</th>\n",
       "      <td>Prof-school</td>\n",
       "      <td>15</td>\n",
       "    </tr>\n",
       "    <tr>\n",
       "      <th>56</th>\n",
       "      <td>5th-6th</td>\n",
       "      <td>3</td>\n",
       "    </tr>\n",
       "    <tr>\n",
       "      <th>77</th>\n",
       "      <td>10th</td>\n",
       "      <td>6</td>\n",
       "    </tr>\n",
       "    <tr>\n",
       "      <th>160</th>\n",
       "      <td>1st-4th</td>\n",
       "      <td>2</td>\n",
       "    </tr>\n",
       "    <tr>\n",
       "      <th>224</th>\n",
       "      <td>Preschool</td>\n",
       "      <td>1</td>\n",
       "    </tr>\n",
       "    <tr>\n",
       "      <th>415</th>\n",
       "      <td>12th</td>\n",
       "      <td>8</td>\n",
       "    </tr>\n",
       "  </tbody>\n",
       "</table>\n",
       "</div>"
      ],
      "text/plain": [
       "         education  education_num\n",
       "0        Bachelors             13\n",
       "2          HS-grad              9\n",
       "3             11th              7\n",
       "5          Masters             14\n",
       "6              9th              5\n",
       "10    Some-college             10\n",
       "13      Assoc-acdm             12\n",
       "14       Assoc-voc             11\n",
       "15         7th-8th              4\n",
       "20       Doctorate             16\n",
       "52     Prof-school             15\n",
       "56         5th-6th              3\n",
       "77            10th              6\n",
       "160        1st-4th              2\n",
       "224      Preschool              1\n",
       "415           12th              8"
      ]
     },
     "execution_count": 15,
     "metadata": {},
     "output_type": "execute_result"
    }
   ],
   "source": [
    "df[['education','education_num']].drop_duplicates()"
   ]
  },
  {
   "cell_type": "markdown",
   "metadata": {},
   "source": [
    "<b>Here we can see that the education_num is refering to the education level, so we can drop the education column</b>"
   ]
  },
  {
   "cell_type": "code",
   "execution_count": 16,
   "metadata": {
    "collapsed": true
   },
   "outputs": [],
   "source": [
    "df = df.drop('education',axis=1)"
   ]
  },
  {
   "cell_type": "markdown",
   "metadata": {},
   "source": [
    "<b>Let's split our train and test datasets</b>"
   ]
  },
  {
   "cell_type": "code",
   "execution_count": 85,
   "metadata": {
    "collapsed": true
   },
   "outputs": [],
   "source": [
    "x = df.drop('income_bracket',axis=1)\n",
    "y = df['income_bracket']"
   ]
  },
  {
   "cell_type": "markdown",
   "metadata": {},
   "source": [
    "<b>Let's check the two possible string labels, and convert them to numerical values</b>"
   ]
  },
  {
   "cell_type": "code",
   "execution_count": 86,
   "metadata": {},
   "outputs": [
    {
     "data": {
      "text/plain": [
       "array([' <=50K', ' >50K'], dtype=object)"
      ]
     },
     "execution_count": 86,
     "metadata": {},
     "output_type": "execute_result"
    }
   ],
   "source": [
    "y.unique()"
   ]
  },
  {
   "cell_type": "code",
   "execution_count": 87,
   "metadata": {},
   "outputs": [],
   "source": [
    "y = y.apply(lambda x: 1 if x == ' >50K' else 0)"
   ]
  },
  {
   "cell_type": "code",
   "execution_count": 132,
   "metadata": {
    "collapsed": true
   },
   "outputs": [],
   "source": [
    "x_train, x_test, y_train, y_test = train_test_split(x,y,test_size=0.3,random_state=101)"
   ]
  },
  {
   "cell_type": "markdown",
   "metadata": {},
   "source": [
    "<b>We saw that there are categorical features, and numerical features.\n",
    "<br>\n",
    "\n",
    "Let's first create our categorical features columns</b>"
   ]
  },
  {
   "cell_type": "code",
   "execution_count": 133,
   "metadata": {
    "collapsed": true
   },
   "outputs": [],
   "source": [
    "workclass         = tf.feature_column.categorical_column_with_hash_bucket('workclass',hash_bucket_size=1000)\n",
    "marital_status    = tf.feature_column.categorical_column_with_hash_bucket('marital_status',hash_bucket_size=1000)\n",
    "occupation        = tf.feature_column.categorical_column_with_hash_bucket('occupation',hash_bucket_size=1000)\n",
    "relationship      = tf.feature_column.categorical_column_with_hash_bucket('relationship',hash_bucket_size=1000)\n",
    "race              = tf.feature_column.categorical_column_with_hash_bucket('race',hash_bucket_size=1000)\n",
    "gender            = tf.feature_column.categorical_column_with_hash_bucket('gender',hash_bucket_size=1000)\n",
    "native_country    = tf.feature_column.categorical_column_with_hash_bucket('native_country',hash_bucket_size=1000)"
   ]
  },
  {
   "cell_type": "code",
   "execution_count": 134,
   "metadata": {
    "collapsed": true
   },
   "outputs": [],
   "source": [
    "workclass = tf.feature_column.embedding_column(workclass,3)\n",
    "marital_status = tf.feature_column.embedding_column(marital_status,3)\n",
    "occupation = tf.feature_column.embedding_column(occupation,3)\n",
    "relationship = tf.feature_column.embedding_column(relationship,3)\n",
    "race = tf.feature_column.embedding_column(race,3)\n",
    "gender = tf.feature_column.embedding_column(gender,3)\n",
    "native_country = tf.feature_column.embedding_column(native_country,3)"
   ]
  },
  {
   "cell_type": "markdown",
   "metadata": {},
   "source": [
    "<b>Let's now create our numerical features columns\n",
    "<br>\n",
    "\n",
    "But first, let's check the ranges, for normalization purpose</b>"
   ]
  },
  {
   "cell_type": "code",
   "execution_count": 46,
   "metadata": {},
   "outputs": [
    {
     "data": {
      "text/plain": [
       "array([[<matplotlib.axes._subplots.AxesSubplot object at 0x00000167F1D37EB8>,\n",
       "        <matplotlib.axes._subplots.AxesSubplot object at 0x00000167F1D79550>],\n",
       "       [<matplotlib.axes._subplots.AxesSubplot object at 0x00000167F1DA71D0>,\n",
       "        <matplotlib.axes._subplots.AxesSubplot object at 0x00000167F1DD8D30>],\n",
       "       [<matplotlib.axes._subplots.AxesSubplot object at 0x00000167F1E0E668>,\n",
       "        <matplotlib.axes._subplots.AxesSubplot object at 0x00000167F1E59DD8>]], dtype=object)"
      ]
     },
     "execution_count": 46,
     "metadata": {},
     "output_type": "execute_result"
    },
    {
     "data": {
      "image/png": "[encoded data removed]",
      "text/plain": [
       "<matplotlib.figure.Figure at 0x167f1bf9978>"
      ]
     },
     "metadata": {},
     "output_type": "display_data"
    }
   ],
   "source": [
    "x_train.hist(figsize=(8,8))"
   ]
  },
  {
   "cell_type": "markdown",
   "metadata": {},
   "source": [
    "<b>We notice that indeed, our numerical features need to be rescaled. Let's use a StandardScaler for that purpose</b>"
   ]
  },
  {
   "cell_type": "code",
   "execution_count": 135,
   "metadata": {
    "collapsed": true
   },
   "outputs": [],
   "source": [
    "x_train_num = x_train[['age','education_num','capital_gain','capital_loss','hours_per_week']]"
   ]
  },
  {
   "cell_type": "code",
   "execution_count": 136,
   "metadata": {
    "collapsed": true
   },
   "outputs": [],
   "source": [
    "std_scaler = StandardScaler()"
   ]
  },
  {
   "cell_type": "code",
   "execution_count": 137,
   "metadata": {},
   "outputs": [],
   "source": [
    "x_train_num_scaled = std_scaler.fit_transform(x_train_num)"
   ]
  },
  {
   "cell_type": "code",
   "execution_count": 138,
   "metadata": {},
   "outputs": [],
   "source": [
    "x_train_num_scaled = pd.DataFrame(data=x_train_num_scaled, columns=x_train_num.columns, index=x_train_num.index)"
   ]
  },
  {
   "cell_type": "code",
   "execution_count": 139,
   "metadata": {},
   "outputs": [
    {
     "data": {
      "text/html": [
       "<div>\n",
       "<style>\n",
       "    .dataframe thead tr:only-child th {\n",
       "        text-align: right;\n",
       "    }\n",
       "\n",
       "    .dataframe thead th {\n",
       "        text-align: left;\n",
       "    }\n",
       "\n",
       "    .dataframe tbody tr th {\n",
       "        vertical-align: top;\n",
       "    }\n",
       "</style>\n",
       "<table border=\"1\" class=\"dataframe\">\n",
       "  <thead>\n",
       "    <tr style=\"text-align: right;\">\n",
       "      <th></th>\n",
       "      <th>age</th>\n",
       "      <th>education_num</th>\n",
       "      <th>capital_gain</th>\n",
       "      <th>capital_loss</th>\n",
       "      <th>hours_per_week</th>\n",
       "    </tr>\n",
       "  </thead>\n",
       "  <tbody>\n",
       "    <tr>\n",
       "      <th>20895</th>\n",
       "      <td>-1.214043</td>\n",
       "      <td>-0.419826</td>\n",
       "      <td>-0.146064</td>\n",
       "      <td>-0.217419</td>\n",
       "      <td>-1.016488</td>\n",
       "    </tr>\n",
       "    <tr>\n",
       "      <th>3384</th>\n",
       "      <td>0.621789</td>\n",
       "      <td>-0.419826</td>\n",
       "      <td>1.896761</td>\n",
       "      <td>-0.217419</td>\n",
       "      <td>-0.040892</td>\n",
       "    </tr>\n",
       "    <tr>\n",
       "      <th>1832</th>\n",
       "      <td>0.548356</td>\n",
       "      <td>-0.031250</td>\n",
       "      <td>-0.146064</td>\n",
       "      <td>-0.217419</td>\n",
       "      <td>-1.341686</td>\n",
       "    </tr>\n",
       "    <tr>\n",
       "      <th>18919</th>\n",
       "      <td>0.548356</td>\n",
       "      <td>-0.031250</td>\n",
       "      <td>-0.146064</td>\n",
       "      <td>-0.217419</td>\n",
       "      <td>0.609505</td>\n",
       "    </tr>\n",
       "    <tr>\n",
       "      <th>31685</th>\n",
       "      <td>1.576422</td>\n",
       "      <td>-0.419826</td>\n",
       "      <td>-0.146064</td>\n",
       "      <td>-0.217419</td>\n",
       "      <td>-0.040892</td>\n",
       "    </tr>\n",
       "  </tbody>\n",
       "</table>\n",
       "</div>"
      ],
      "text/plain": [
       "            age  education_num  capital_gain  capital_loss  hours_per_week\n",
       "20895 -1.214043      -0.419826     -0.146064     -0.217419       -1.016488\n",
       "3384   0.621789      -0.419826      1.896761     -0.217419       -0.040892\n",
       "1832   0.548356      -0.031250     -0.146064     -0.217419       -1.341686\n",
       "18919  0.548356      -0.031250     -0.146064     -0.217419        0.609505\n",
       "31685  1.576422      -0.419826     -0.146064     -0.217419       -0.040892"
      ]
     },
     "execution_count": 139,
     "metadata": {},
     "output_type": "execute_result"
    }
   ],
   "source": [
    "x_train_num_scaled.head()"
   ]
  },
  {
   "cell_type": "code",
   "execution_count": 140,
   "metadata": {},
   "outputs": [],
   "source": [
    "x_train_scaled = pd.concat([x_train_num_scaled, x_train[['workclass',\\\n",
    "                                                            'marital_status',\\\n",
    "                                                            'occupation',\\\n",
    "                                                            'relationship',\\\n",
    "                                                            'race',\\\n",
    "                                                            'gender',\\\n",
    "                                                            'native_country']]],axis=1)"
   ]
  },
  {
   "cell_type": "markdown",
   "metadata": {},
   "source": [
    "<b>Let's perform the same operations for the x_test dataset</b>"
   ]
  },
  {
   "cell_type": "code",
   "execution_count": 142,
   "metadata": {},
   "outputs": [],
   "source": [
    "x_test_num = x_test[['age','education_num','capital_gain','capital_loss','hours_per_week']]\n",
    "x_test_num_scaled = std_scaler.fit_transform(x_test_num)\n",
    "x_test_num_scaled = pd.DataFrame(data=x_test_num_scaled, columns=x_test_num.columns, index=x_test_num.index)\n",
    "x_test_scaled = pd.concat([x_test_num_scaled, x_test[['workclass',\\\n",
    "                                                            'marital_status',\\\n",
    "                                                            'occupation',\\\n",
    "                                                            'relationship',\\\n",
    "                                                            'race',\\\n",
    "                                                            'gender',\\\n",
    "                                                            'native_country']]],axis=1)"
   ]
  },
  {
   "cell_type": "markdown",
   "metadata": {},
   "source": [
    "<b>Let's now create our continuous feature columns</b>"
   ]
  },
  {
   "cell_type": "code",
   "execution_count": 143,
   "metadata": {
    "collapsed": true
   },
   "outputs": [],
   "source": [
    "age                = tf.feature_column.numeric_column('age')\n",
    "education_num      = tf.feature_column.numeric_column('education_num')\n",
    "capital_gain       = tf.feature_column.numeric_column('capital_gain')\n",
    "capital_loss       = tf.feature_column.numeric_column('capital_loss')\n",
    "hours_per_week     = tf.feature_column.numeric_column('hours_per_week')"
   ]
  },
  {
   "cell_type": "markdown",
   "metadata": {},
   "source": [
    "<b>Our total features will then be</b>"
   ]
  },
  {
   "cell_type": "code",
   "execution_count": 144,
   "metadata": {},
   "outputs": [],
   "source": [
    "feat_cols = [workclass,\n",
    "            education_num,\n",
    "            marital_status,\n",
    "            occupation,\n",
    "            relationship,\n",
    "            race,\n",
    "            gender,\n",
    "            native_country,\n",
    "            age,\n",
    "            capital_gain,\n",
    "            capital_loss,\n",
    "            hours_per_week]"
   ]
  },
  {
   "cell_type": "markdown",
   "metadata": {},
   "source": [
    "<b>Let's create our input functions for the Estimator</b>"
   ]
  },
  {
   "cell_type": "code",
   "execution_count": 145,
   "metadata": {},
   "outputs": [],
   "source": [
    "input_func = tf.estimator.inputs.pandas_input_fn(x_train_scaled, y_train,batch_size=100,num_epochs=10000,shuffle=True)"
   ]
  },
  {
   "cell_type": "code",
   "execution_count": 146,
   "metadata": {},
   "outputs": [],
   "source": [
    "predict_func = tf.estimator.inputs.pandas_input_fn(x_test_scaled,batch_size=100,num_epochs=1,shuffle=False)"
   ]
  },
  {
   "cell_type": "code",
   "execution_count": 147,
   "metadata": {},
   "outputs": [
    {
     "data": {
      "text/html": [
       "<div>\n",
       "<style>\n",
       "    .dataframe thead tr:only-child th {\n",
       "        text-align: right;\n",
       "    }\n",
       "\n",
       "    .dataframe thead th {\n",
       "        text-align: left;\n",
       "    }\n",
       "\n",
       "    .dataframe tbody tr th {\n",
       "        vertical-align: top;\n",
       "    }\n",
       "</style>\n",
       "<table border=\"1\" class=\"dataframe\">\n",
       "  <thead>\n",
       "    <tr style=\"text-align: right;\">\n",
       "      <th></th>\n",
       "      <th>age</th>\n",
       "      <th>education_num</th>\n",
       "      <th>capital_gain</th>\n",
       "      <th>capital_loss</th>\n",
       "      <th>hours_per_week</th>\n",
       "      <th>workclass</th>\n",
       "      <th>marital_status</th>\n",
       "      <th>occupation</th>\n",
       "      <th>relationship</th>\n",
       "      <th>race</th>\n",
       "      <th>gender</th>\n",
       "      <th>native_country</th>\n",
       "    </tr>\n",
       "  </thead>\n",
       "  <tbody>\n",
       "    <tr>\n",
       "      <th>20895</th>\n",
       "      <td>-1.214043</td>\n",
       "      <td>-0.419826</td>\n",
       "      <td>-0.146064</td>\n",
       "      <td>-0.217419</td>\n",
       "      <td>-1.016488</td>\n",
       "      <td>Private</td>\n",
       "      <td>Never-married</td>\n",
       "      <td>Adm-clerical</td>\n",
       "      <td>Own-child</td>\n",
       "      <td>White</td>\n",
       "      <td>Female</td>\n",
       "      <td>United-States</td>\n",
       "    </tr>\n",
       "    <tr>\n",
       "      <th>3384</th>\n",
       "      <td>0.621789</td>\n",
       "      <td>-0.419826</td>\n",
       "      <td>1.896761</td>\n",
       "      <td>-0.217419</td>\n",
       "      <td>-0.040892</td>\n",
       "      <td>Private</td>\n",
       "      <td>Married-civ-spouse</td>\n",
       "      <td>Machine-op-inspct</td>\n",
       "      <td>Wife</td>\n",
       "      <td>Black</td>\n",
       "      <td>Female</td>\n",
       "      <td>United-States</td>\n",
       "    </tr>\n",
       "    <tr>\n",
       "      <th>1832</th>\n",
       "      <td>0.548356</td>\n",
       "      <td>-0.031250</td>\n",
       "      <td>-0.146064</td>\n",
       "      <td>-0.217419</td>\n",
       "      <td>-1.341686</td>\n",
       "      <td>Local-gov</td>\n",
       "      <td>Married-civ-spouse</td>\n",
       "      <td>Prof-specialty</td>\n",
       "      <td>Husband</td>\n",
       "      <td>White</td>\n",
       "      <td>Male</td>\n",
       "      <td>United-States</td>\n",
       "    </tr>\n",
       "    <tr>\n",
       "      <th>18919</th>\n",
       "      <td>0.548356</td>\n",
       "      <td>-0.031250</td>\n",
       "      <td>-0.146064</td>\n",
       "      <td>-0.217419</td>\n",
       "      <td>0.609505</td>\n",
       "      <td>State-gov</td>\n",
       "      <td>Divorced</td>\n",
       "      <td>Adm-clerical</td>\n",
       "      <td>Unmarried</td>\n",
       "      <td>White</td>\n",
       "      <td>Female</td>\n",
       "      <td>United-States</td>\n",
       "    </tr>\n",
       "    <tr>\n",
       "      <th>31685</th>\n",
       "      <td>1.576422</td>\n",
       "      <td>-0.419826</td>\n",
       "      <td>-0.146064</td>\n",
       "      <td>-0.217419</td>\n",
       "      <td>-0.040892</td>\n",
       "      <td>Private</td>\n",
       "      <td>Married-civ-spouse</td>\n",
       "      <td>Adm-clerical</td>\n",
       "      <td>Husband</td>\n",
       "      <td>White</td>\n",
       "      <td>Male</td>\n",
       "      <td>United-States</td>\n",
       "    </tr>\n",
       "  </tbody>\n",
       "</table>\n",
       "</div>"
      ],
      "text/plain": [
       "            age  education_num  capital_gain  capital_loss  hours_per_week  \\\n",
       "20895 -1.214043      -0.419826     -0.146064     -0.217419       -1.016488   \n",
       "3384   0.621789      -0.419826      1.896761     -0.217419       -0.040892   \n",
       "1832   0.548356      -0.031250     -0.146064     -0.217419       -1.341686   \n",
       "18919  0.548356      -0.031250     -0.146064     -0.217419        0.609505   \n",
       "31685  1.576422      -0.419826     -0.146064     -0.217419       -0.040892   \n",
       "\n",
       "        workclass       marital_status          occupation relationship  \\\n",
       "20895     Private        Never-married        Adm-clerical    Own-child   \n",
       "3384      Private   Married-civ-spouse   Machine-op-inspct         Wife   \n",
       "1832    Local-gov   Married-civ-spouse      Prof-specialty      Husband   \n",
       "18919   State-gov             Divorced        Adm-clerical    Unmarried   \n",
       "31685     Private   Married-civ-spouse        Adm-clerical      Husband   \n",
       "\n",
       "         race   gender  native_country  \n",
       "20895   White   Female   United-States  \n",
       "3384    Black   Female   United-States  \n",
       "1832    White     Male   United-States  \n",
       "18919   White   Female   United-States  \n",
       "31685   White     Male   United-States  "
      ]
     },
     "execution_count": 147,
     "metadata": {},
     "output_type": "execute_result"
    }
   ],
   "source": [
    "x_train_scaled.head()"
   ]
  },
  {
   "cell_type": "markdown",
   "metadata": {},
   "source": [
    "<b>Let's create our Dense Neural Network</b>"
   ]
  },
  {
   "cell_type": "code",
   "execution_count": 158,
   "metadata": {},
   "outputs": [
    {
     "name": "stdout",
     "output_type": "stream",
     "text": [
      "INFO:tensorflow:Using default config.\n",
      "WARNING:tensorflow:Using temporary folder as model directory: C:\\Users\\Yassine\\AppData\\Local\\Temp\\tmpwyei9w9l\n",
      "INFO:tensorflow:Using config: {'_model_dir': 'C:\\\\Users\\\\Yassine\\\\AppData\\\\Local\\\\Temp\\\\tmpwyei9w9l', '_keep_checkpoint_max': 5, '_save_checkpoints_steps': None, '_session_config': None, '_log_step_count_steps': 100, '_tf_random_seed': 1, '_save_summary_steps': 100, '_save_checkpoints_secs': 600, '_keep_checkpoint_every_n_hours': 10000}\n"
     ]
    }
   ],
   "source": [
    "dnn_model = tf.estimator.DNNClassifier(hidden_units=[12,12,12,12],feature_columns=feat_cols)"
   ]
  },
  {
   "cell_type": "markdown",
   "metadata": {},
   "source": [
    "<b>Let's train it</b>"
   ]
  },
  {
   "cell_type": "code",
   "execution_count": 159,
   "metadata": {},
   "outputs": [
    {
     "name": "stdout",
     "output_type": "stream",
     "text": [
      "INFO:tensorflow:Create CheckpointSaverHook.\n",
      "INFO:tensorflow:Saving checkpoints for 1 into C:\\Users\\Yassine\\AppData\\Local\\Temp\\tmpwyei9w9l\\model.ckpt.\n",
      "INFO:tensorflow:step = 1, loss = 63.9914\n",
      "INFO:tensorflow:global_step/sec: 145.972\n",
      "INFO:tensorflow:step = 101, loss = 29.5157 (0.669 sec)\n",
      "INFO:tensorflow:global_step/sec: 182.538\n",
      "INFO:tensorflow:step = 201, loss = 25.8012 (0.570 sec)\n",
      "INFO:tensorflow:global_step/sec: 176.359\n",
      "INFO:tensorflow:step = 301, loss = 30.7219 (0.561 sec)\n",
      "INFO:tensorflow:global_step/sec: 180.013\n",
      "INFO:tensorflow:step = 401, loss = 36.7201 (0.542 sec)\n",
      "INFO:tensorflow:global_step/sec: 182.034\n",
      "INFO:tensorflow:step = 501, loss = 25.7422 (0.547 sec)\n",
      "INFO:tensorflow:global_step/sec: 180.686\n",
      "INFO:tensorflow:step = 601, loss = 30.0013 (0.565 sec)\n",
      "INFO:tensorflow:global_step/sec: 158.203\n",
      "INFO:tensorflow:step = 701, loss = 34.4004 (0.620 sec)\n",
      "INFO:tensorflow:global_step/sec: 151.635\n",
      "INFO:tensorflow:step = 801, loss = 35.629 (0.673 sec)\n",
      "INFO:tensorflow:global_step/sec: 100.949\n",
      "INFO:tensorflow:step = 901, loss = 30.0026 (0.997 sec)\n",
      "INFO:tensorflow:global_step/sec: 95.7189\n",
      "INFO:tensorflow:step = 1001, loss = 36.2557 (1.041 sec)\n",
      "INFO:tensorflow:global_step/sec: 88.3929\n",
      "INFO:tensorflow:step = 1101, loss = 31.4236 (1.139 sec)\n",
      "INFO:tensorflow:global_step/sec: 93.6287\n",
      "INFO:tensorflow:step = 1201, loss = 28.3205 (1.064 sec)\n",
      "INFO:tensorflow:global_step/sec: 94.6565\n",
      "INFO:tensorflow:step = 1301, loss = 22.1311 (1.053 sec)\n",
      "INFO:tensorflow:global_step/sec: 94.2957\n",
      "INFO:tensorflow:step = 1401, loss = 24.425 (1.064 sec)\n",
      "INFO:tensorflow:global_step/sec: 129.049\n",
      "INFO:tensorflow:step = 1501, loss = 37.809 (0.771 sec)\n",
      "INFO:tensorflow:global_step/sec: 171.375\n",
      "INFO:tensorflow:step = 1601, loss = 21.9914 (0.580 sec)\n",
      "INFO:tensorflow:global_step/sec: 159.908\n",
      "INFO:tensorflow:step = 1701, loss = 34.4338 (0.613 sec)\n",
      "INFO:tensorflow:global_step/sec: 180.621\n",
      "INFO:tensorflow:step = 1801, loss = 32.2762 (0.554 sec)\n",
      "INFO:tensorflow:global_step/sec: 182.422\n",
      "INFO:tensorflow:step = 1901, loss = 38.5264 (0.564 sec)\n",
      "INFO:tensorflow:global_step/sec: 171.917\n",
      "INFO:tensorflow:step = 2001, loss = 31.1564 (0.586 sec)\n",
      "INFO:tensorflow:global_step/sec: 146.786\n",
      "INFO:tensorflow:step = 2101, loss = 25.2739 (0.669 sec)\n",
      "INFO:tensorflow:global_step/sec: 163.255\n",
      "INFO:tensorflow:step = 2201, loss = 23.8616 (0.621 sec)\n",
      "INFO:tensorflow:global_step/sec: 117.911\n",
      "INFO:tensorflow:step = 2301, loss = 29.4022 (0.859 sec)\n",
      "INFO:tensorflow:global_step/sec: 94.4426\n",
      "INFO:tensorflow:step = 2401, loss = 25.9479 (1.048 sec)\n",
      "INFO:tensorflow:global_step/sec: 93.718\n",
      "INFO:tensorflow:step = 2501, loss = 25.2236 (1.085 sec)\n",
      "INFO:tensorflow:global_step/sec: 85.55\n",
      "INFO:tensorflow:step = 2601, loss = 34.6903 (1.155 sec)\n",
      "INFO:tensorflow:global_step/sec: 132.958\n",
      "INFO:tensorflow:step = 2701, loss = 46.3342 (0.744 sec)\n",
      "INFO:tensorflow:global_step/sec: 120.583\n",
      "INFO:tensorflow:step = 2801, loss = 34.8965 (0.833 sec)\n",
      "INFO:tensorflow:global_step/sec: 119.536\n",
      "INFO:tensorflow:step = 2901, loss = 41.4368 (0.829 sec)\n",
      "INFO:tensorflow:global_step/sec: 149.62\n",
      "INFO:tensorflow:step = 3001, loss = 22.7061 (0.677 sec)\n",
      "INFO:tensorflow:global_step/sec: 145.437\n",
      "INFO:tensorflow:step = 3101, loss = 33.1521 (0.671 sec)\n",
      "INFO:tensorflow:global_step/sec: 153.926\n",
      "INFO:tensorflow:step = 3201, loss = 37.258 (0.674 sec)\n",
      "INFO:tensorflow:global_step/sec: 142.911\n",
      "INFO:tensorflow:step = 3301, loss = 20.0826 (0.692 sec)\n",
      "INFO:tensorflow:global_step/sec: 124.292\n",
      "INFO:tensorflow:step = 3401, loss = 36.0389 (0.811 sec)\n",
      "INFO:tensorflow:global_step/sec: 111.577\n",
      "INFO:tensorflow:step = 3501, loss = 34.6876 (0.886 sec)\n",
      "INFO:tensorflow:global_step/sec: 149.053\n",
      "INFO:tensorflow:step = 3601, loss = 29.1209 (0.674 sec)\n",
      "INFO:tensorflow:global_step/sec: 141.027\n",
      "INFO:tensorflow:step = 3701, loss = 25.2205 (0.711 sec)\n",
      "INFO:tensorflow:global_step/sec: 146.152\n",
      "INFO:tensorflow:step = 3801, loss = 39.6823 (0.678 sec)\n",
      "INFO:tensorflow:global_step/sec: 149.699\n",
      "INFO:tensorflow:step = 3901, loss = 38.8133 (0.664 sec)\n",
      "INFO:tensorflow:global_step/sec: 144.404\n",
      "INFO:tensorflow:step = 4001, loss = 32.0699 (0.697 sec)\n",
      "INFO:tensorflow:global_step/sec: 143.404\n",
      "INFO:tensorflow:step = 4101, loss = 25.8725 (0.701 sec)\n",
      "INFO:tensorflow:global_step/sec: 175.568\n",
      "INFO:tensorflow:step = 4201, loss = 41.3086 (0.570 sec)\n",
      "INFO:tensorflow:global_step/sec: 177.656\n",
      "INFO:tensorflow:step = 4301, loss = 24.9532 (0.563 sec)\n",
      "INFO:tensorflow:global_step/sec: 162.22\n",
      "INFO:tensorflow:step = 4401, loss = 35.5233 (0.623 sec)\n",
      "INFO:tensorflow:global_step/sec: 125.812\n",
      "INFO:tensorflow:step = 4501, loss = 27.3451 (0.787 sec)\n",
      "INFO:tensorflow:global_step/sec: 116.711\n",
      "INFO:tensorflow:step = 4601, loss = 31.2187 (0.855 sec)\n",
      "INFO:tensorflow:global_step/sec: 169.999\n",
      "INFO:tensorflow:step = 4701, loss = 27.1111 (0.592 sec)\n",
      "INFO:tensorflow:global_step/sec: 147.811\n",
      "INFO:tensorflow:step = 4801, loss = 33.3232 (0.681 sec)\n",
      "INFO:tensorflow:global_step/sec: 111.973\n",
      "INFO:tensorflow:step = 4901, loss = 29.5925 (0.901 sec)\n",
      "INFO:tensorflow:global_step/sec: 87.9493\n",
      "INFO:tensorflow:step = 5001, loss = 35.5111 (1.129 sec)\n",
      "INFO:tensorflow:global_step/sec: 91.133\n",
      "INFO:tensorflow:step = 5101, loss = 29.1605 (1.097 sec)\n",
      "INFO:tensorflow:global_step/sec: 96.9194\n",
      "INFO:tensorflow:step = 5201, loss = 29.6704 (1.028 sec)\n",
      "INFO:tensorflow:global_step/sec: 130.012\n",
      "INFO:tensorflow:step = 5301, loss = 33.7127 (0.761 sec)\n",
      "INFO:tensorflow:global_step/sec: 160.218\n",
      "INFO:tensorflow:step = 5401, loss = 31.096 (0.632 sec)\n",
      "INFO:tensorflow:global_step/sec: 162.113\n",
      "INFO:tensorflow:step = 5501, loss = 34.9295 (0.639 sec)\n",
      "INFO:tensorflow:global_step/sec: 144.272\n",
      "INFO:tensorflow:step = 5601, loss = 26.8609 (0.663 sec)\n",
      "INFO:tensorflow:global_step/sec: 165.479\n",
      "INFO:tensorflow:step = 5701, loss = 28.136 (0.625 sec)\n",
      "INFO:tensorflow:global_step/sec: 152.45\n",
      "INFO:tensorflow:step = 5801, loss = 36.0791 (0.636 sec)\n",
      "INFO:tensorflow:global_step/sec: 99.1137\n",
      "INFO:tensorflow:step = 5901, loss = 25.0917 (1.013 sec)\n",
      "INFO:tensorflow:global_step/sec: 120.619\n",
      "INFO:tensorflow:step = 6001, loss = 23.7673 (0.827 sec)\n",
      "INFO:tensorflow:global_step/sec: 177.53\n",
      "INFO:tensorflow:step = 6101, loss = 24.1727 (0.569 sec)\n",
      "INFO:tensorflow:global_step/sec: 170.835\n",
      "INFO:tensorflow:step = 6201, loss = 34.7605 (0.585 sec)\n",
      "INFO:tensorflow:global_step/sec: 169.471\n",
      "INFO:tensorflow:step = 6301, loss = 26.7818 (0.586 sec)\n",
      "INFO:tensorflow:global_step/sec: 184.419\n",
      "INFO:tensorflow:step = 6401, loss = 34.2379 (0.550 sec)\n",
      "INFO:tensorflow:global_step/sec: 185.816\n",
      "INFO:tensorflow:step = 6501, loss = 23.0736 (0.535 sec)\n",
      "INFO:tensorflow:global_step/sec: 178.213\n",
      "INFO:tensorflow:step = 6601, loss = 45.6927 (0.546 sec)\n",
      "INFO:tensorflow:global_step/sec: 165.902\n",
      "INFO:tensorflow:step = 6701, loss = 20.3182 (0.619 sec)\n",
      "INFO:tensorflow:global_step/sec: 142.278\n",
      "INFO:tensorflow:step = 6801, loss = 26.5271 (0.699 sec)\n",
      "INFO:tensorflow:global_step/sec: 92.8666\n",
      "INFO:tensorflow:step = 6901, loss = 35.2531 (1.084 sec)\n",
      "INFO:tensorflow:global_step/sec: 95.3121\n",
      "INFO:tensorflow:step = 7001, loss = 27.9381 (1.049 sec)\n",
      "INFO:tensorflow:global_step/sec: 124.898\n",
      "INFO:tensorflow:step = 7101, loss = 34.347 (0.793 sec)\n",
      "INFO:tensorflow:global_step/sec: 149.562\n",
      "INFO:tensorflow:step = 7201, loss = 33.5996 (0.665 sec)\n",
      "INFO:tensorflow:global_step/sec: 144.473\n",
      "INFO:tensorflow:step = 7301, loss = 27.443 (0.704 sec)\n",
      "INFO:tensorflow:global_step/sec: 155.014\n",
      "INFO:tensorflow:step = 7401, loss = 26.8247 (0.641 sec)\n",
      "INFO:tensorflow:global_step/sec: 175.037\n",
      "INFO:tensorflow:step = 7501, loss = 26.8796 (0.571 sec)\n",
      "INFO:tensorflow:global_step/sec: 182.954\n",
      "INFO:tensorflow:step = 7601, loss = 30.6561 (0.550 sec)\n",
      "INFO:tensorflow:global_step/sec: 170.739\n",
      "INFO:tensorflow:step = 7701, loss = 35.8456 (0.587 sec)\n",
      "INFO:tensorflow:global_step/sec: 175.443\n",
      "INFO:tensorflow:step = 7801, loss = 38.0457 (0.549 sec)\n",
      "INFO:tensorflow:global_step/sec: 182.794\n",
      "INFO:tensorflow:step = 7901, loss = 25.4889 (0.564 sec)\n",
      "INFO:tensorflow:global_step/sec: 179.121\n",
      "INFO:tensorflow:step = 8001, loss = 28.8501 (0.550 sec)\n",
      "INFO:tensorflow:global_step/sec: 178.22\n",
      "INFO:tensorflow:step = 8101, loss = 35.0966 (0.557 sec)\n",
      "INFO:tensorflow:global_step/sec: 179.994\n",
      "INFO:tensorflow:step = 8201, loss = 34.2228 (0.560 sec)\n",
      "INFO:tensorflow:global_step/sec: 146.66\n",
      "INFO:tensorflow:step = 8301, loss = 30.5048 (0.686 sec)\n"
     ]
    },
    {
     "name": "stdout",
     "output_type": "stream",
     "text": [
      "INFO:tensorflow:global_step/sec: 175.882\n",
      "INFO:tensorflow:step = 8401, loss = 23.0175 (0.557 sec)\n",
      "INFO:tensorflow:global_step/sec: 188.021\n",
      "INFO:tensorflow:step = 8501, loss = 34.9803 (0.554 sec)\n",
      "INFO:tensorflow:global_step/sec: 123.557\n",
      "INFO:tensorflow:step = 8601, loss = 34.2365 (0.812 sec)\n",
      "INFO:tensorflow:global_step/sec: 87.4644\n",
      "INFO:tensorflow:step = 8701, loss = 21.2934 (1.147 sec)\n",
      "INFO:tensorflow:global_step/sec: 82.0854\n",
      "INFO:tensorflow:step = 8801, loss = 26.1022 (1.235 sec)\n",
      "INFO:tensorflow:global_step/sec: 111.945\n",
      "INFO:tensorflow:step = 8901, loss = 30.367 (0.849 sec)\n",
      "INFO:tensorflow:global_step/sec: 161.265\n",
      "INFO:tensorflow:step = 9001, loss = 26.2992 (0.632 sec)\n",
      "INFO:tensorflow:global_step/sec: 169.733\n",
      "INFO:tensorflow:step = 9101, loss = 24.4355 (0.593 sec)\n",
      "INFO:tensorflow:global_step/sec: 167.798\n",
      "INFO:tensorflow:step = 9201, loss = 24.1759 (0.594 sec)\n",
      "INFO:tensorflow:global_step/sec: 159.125\n",
      "INFO:tensorflow:step = 9301, loss = 26.6039 (0.623 sec)\n",
      "INFO:tensorflow:global_step/sec: 151.599\n",
      "INFO:tensorflow:step = 9401, loss = 28.1435 (0.671 sec)\n",
      "INFO:tensorflow:global_step/sec: 144.286\n",
      "INFO:tensorflow:step = 9501, loss = 31.208 (0.693 sec)\n",
      "INFO:tensorflow:global_step/sec: 166.821\n",
      "INFO:tensorflow:step = 9601, loss = 26.6807 (0.595 sec)\n",
      "INFO:tensorflow:global_step/sec: 162.987\n",
      "INFO:tensorflow:step = 9701, loss = 34.0258 (0.611 sec)\n",
      "INFO:tensorflow:global_step/sec: 168.632\n",
      "INFO:tensorflow:step = 9801, loss = 25.1569 (0.580 sec)\n",
      "INFO:tensorflow:global_step/sec: 160.792\n",
      "INFO:tensorflow:step = 9901, loss = 24.1322 (0.632 sec)\n",
      "INFO:tensorflow:Saving checkpoints for 10000 into C:\\Users\\Yassine\\AppData\\Local\\Temp\\tmpwyei9w9l\\model.ckpt.\n",
      "INFO:tensorflow:Loss for final step: 32.4364.\n"
     ]
    },
    {
     "data": {
      "text/plain": [
       "<tensorflow.python.estimator.canned.dnn.DNNClassifier at 0x167f3da3dd8>"
      ]
     },
     "execution_count": 159,
     "metadata": {},
     "output_type": "execute_result"
    }
   ],
   "source": [
    "dnn_model.train(input_fn=input_func,steps=10000)"
   ]
  },
  {
   "cell_type": "markdown",
   "metadata": {},
   "source": [
    "<b>Let's evaluate it</b>"
   ]
  },
  {
   "cell_type": "code",
   "execution_count": 160,
   "metadata": {
    "collapsed": true
   },
   "outputs": [],
   "source": [
    "from sklearn.metrics import accuracy_score"
   ]
  },
  {
   "cell_type": "code",
   "execution_count": 165,
   "metadata": {},
   "outputs": [
    {
     "name": "stdout",
     "output_type": "stream",
     "text": [
      "INFO:tensorflow:Restoring parameters from C:\\Users\\Yassine\\AppData\\Local\\Temp\\tmpwyei9w9l\\model.ckpt-10000\n"
     ]
    }
   ],
   "source": [
    "y_pred = []\n",
    "\n",
    "for prediction in dnn_model.predict(input_fn=predict_func):\n",
    "    \n",
    "    y_pred.append(prediction['class_ids'])"
   ]
  },
  {
   "cell_type": "code",
   "execution_count": 167,
   "metadata": {},
   "outputs": [
    {
     "data": {
      "text/plain": [
       "0.85965810215989358"
      ]
     },
     "execution_count": 167,
     "metadata": {},
     "output_type": "execute_result"
    }
   ],
   "source": [
    "accuracy_score(y_true=y_test, y_pred=y_pred)"
   ]
  },
  {
   "cell_type": "markdown",
   "metadata": {},
   "source": [
    "<h2>Conclusion</h2>\n",
    "<br>\n",
    "We reached <b>86%</b> accuracy, which is quite good.\n",
    "We still can improve the DNN performances by :\n",
    "- Increasing the training steps\n",
    "- Increasing the number of layers/number of neurons per layer\n",
    "- Getting more data"
   ]
  }
 ],
 "metadata": {
  "kernelspec": {
   "display_name": "Python 3",
   "language": "python",
   "name": "python3"
  },
  "language_info": {
   "codemirror_mode": {
    "name": "ipython",
    "version": 3
   },
   "file_extension": ".py",
   "mimetype": "text/x-python",
   "name": "python",
   "nbconvert_exporter": "python",
   "pygments_lexer": "ipython3",
   "version": "3.5.4"
  }
 },
 "nbformat": 4,
 "nbformat_minor": 2
}
